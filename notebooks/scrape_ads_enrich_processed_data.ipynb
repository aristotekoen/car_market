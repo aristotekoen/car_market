{
 "cells": [
  {
   "cell_type": "code",
   "id": "initial_id",
   "metadata": {
    "collapsed": true,
    "ExecuteTime": {
     "end_time": "2025-02-20T15:42:31.659275Z",
     "start_time": "2025-02-20T15:42:31.647853Z"
    }
   },
   "source": [
    "import glob\n",
    "from json import JSONDecodeError\n",
    "\n",
    "import pandas as pd\n",
    "import os\n",
    "import ast\n",
    "import json\n",
    "import numpy as np\n",
    "import matplotlib.pyplot as plt\n",
    "from tqdm import tqdm"
   ],
   "outputs": [],
   "execution_count": 85
  },
  {
   "metadata": {
    "ExecuteTime": {
     "end_time": "2025-02-20T14:10:43.131659Z",
     "start_time": "2025-02-20T14:10:43.129194Z"
    }
   },
   "cell_type": "code",
   "source": [
    "#We will define a function which will store all scraped ads through api calls\n",
    "#We will enrich the dataset with certain features which are in the ad rather than from the response of the api call"
   ],
   "id": "53e15aea6e4b42dd",
   "outputs": [],
   "execution_count": 2
  },
  {
   "metadata": {
    "ExecuteTime": {
     "end_time": "2025-02-20T14:11:31.612756Z",
     "start_time": "2025-02-20T14:11:31.487385Z"
    }
   },
   "cell_type": "code",
   "source": "",
   "id": "b19885354690d91e",
   "outputs": [],
   "execution_count": 4
  },
  {
   "metadata": {
    "ExecuteTime": {
     "end_time": "2025-02-20T14:13:35.066759Z",
     "start_time": "2025-02-20T14:13:35.062889Z"
    }
   },
   "cell_type": "code",
   "source": "ads[0]['id']",
   "id": "10b497316cd6205a",
   "outputs": [
    {
     "data": {
      "text/plain": [
       "41737621"
      ]
     },
     "execution_count": 11,
     "metadata": {},
     "output_type": "execute_result"
    }
   ],
   "execution_count": 11
  },
  {
   "metadata": {
    "ExecuteTime": {
     "end_time": "2025-02-20T14:12:47.521374Z",
     "start_time": "2025-02-20T14:12:45.544969Z"
    }
   },
   "cell_type": "code",
   "source": "init_car_df = pd.read_csv('../data/processed_ads_df.csv')",
   "id": "4733e07bf3e89837",
   "outputs": [],
   "execution_count": 6
  },
  {
   "metadata": {
    "ExecuteTime": {
     "end_time": "2025-02-20T14:14:29.918717Z",
     "start_time": "2025-02-20T14:14:29.904430Z"
    }
   },
   "cell_type": "code",
   "source": "init_car_df.loc[init_car_df.id==41737621]",
   "id": "ddf0e94cd95c9e0c",
   "outputs": [
    {
     "data": {
      "text/plain": [
       "             lat        lon                            Unnamed: 0  is_new  \\\n",
       "13878  40.652406  22.965476  f14a5e29-cc87-4597-bcaa-56f3067583b3   False   \n",
       "\n",
       "      label      model_stub  \\\n",
       "13878   NaN  Opel Astra '08   \n",
       "\n",
       "                                                  thumbs        id  \\\n",
       "13878  {'count': 11, 'urls': ['https://static.car.gr/...  41737621   \n",
       "\n",
       "       price_debatable     user_id  ... registration_year  \\\n",
       "13878            False  1001043990  ...              2008   \n",
       "\n",
       "       battery_charge_time battery_range engine_power fuel_type gearbox_type  \\\n",
       "13878                  NaN           NaN       96 bhp    Diesel          NaN   \n",
       "\n",
       "       brand  variant  model year  \n",
       "13878   opel      NaN  astra    8  \n",
       "\n",
       "[1 rows x 35 columns]"
      ],
      "text/html": [
       "<div>\n",
       "<style scoped>\n",
       "    .dataframe tbody tr th:only-of-type {\n",
       "        vertical-align: middle;\n",
       "    }\n",
       "\n",
       "    .dataframe tbody tr th {\n",
       "        vertical-align: top;\n",
       "    }\n",
       "\n",
       "    .dataframe thead th {\n",
       "        text-align: right;\n",
       "    }\n",
       "</style>\n",
       "<table border=\"1\" class=\"dataframe\">\n",
       "  <thead>\n",
       "    <tr style=\"text-align: right;\">\n",
       "      <th></th>\n",
       "      <th>lat</th>\n",
       "      <th>lon</th>\n",
       "      <th>Unnamed: 0</th>\n",
       "      <th>is_new</th>\n",
       "      <th>label</th>\n",
       "      <th>model_stub</th>\n",
       "      <th>thumbs</th>\n",
       "      <th>id</th>\n",
       "      <th>price_debatable</th>\n",
       "      <th>user_id</th>\n",
       "      <th>...</th>\n",
       "      <th>registration_year</th>\n",
       "      <th>battery_charge_time</th>\n",
       "      <th>battery_range</th>\n",
       "      <th>engine_power</th>\n",
       "      <th>fuel_type</th>\n",
       "      <th>gearbox_type</th>\n",
       "      <th>brand</th>\n",
       "      <th>variant</th>\n",
       "      <th>model</th>\n",
       "      <th>year</th>\n",
       "    </tr>\n",
       "  </thead>\n",
       "  <tbody>\n",
       "    <tr>\n",
       "      <th>13878</th>\n",
       "      <td>40.652406</td>\n",
       "      <td>22.965476</td>\n",
       "      <td>f14a5e29-cc87-4597-bcaa-56f3067583b3</td>\n",
       "      <td>False</td>\n",
       "      <td>NaN</td>\n",
       "      <td>Opel Astra '08</td>\n",
       "      <td>{'count': 11, 'urls': ['https://static.car.gr/...</td>\n",
       "      <td>41737621</td>\n",
       "      <td>False</td>\n",
       "      <td>1001043990</td>\n",
       "      <td>...</td>\n",
       "      <td>2008</td>\n",
       "      <td>NaN</td>\n",
       "      <td>NaN</td>\n",
       "      <td>96 bhp</td>\n",
       "      <td>Diesel</td>\n",
       "      <td>NaN</td>\n",
       "      <td>opel</td>\n",
       "      <td>NaN</td>\n",
       "      <td>astra</td>\n",
       "      <td>8</td>\n",
       "    </tr>\n",
       "  </tbody>\n",
       "</table>\n",
       "<p>1 rows × 35 columns</p>\n",
       "</div>"
      ]
     },
     "execution_count": 16,
     "metadata": {},
     "output_type": "execute_result"
    }
   ],
   "execution_count": 16
  },
  {
   "metadata": {
    "ExecuteTime": {
     "end_time": "2025-02-20T14:26:21.781990Z",
     "start_time": "2025-02-20T14:26:21.566234Z"
    }
   },
   "cell_type": "code",
   "source": [
    "ids = [os.path.splitext(os.path.basename(id))[0] for id in list(glob.glob('../data/ads/*.json'))]\n",
    "ids_in_frame = init_car_df.id.astype(str).values.tolist()"
   ],
   "id": "603d3102f700a9cd",
   "outputs": [],
   "execution_count": 37
  },
  {
   "metadata": {
    "ExecuteTime": {
     "end_time": "2025-02-20T14:26:29.567468Z",
     "start_time": "2025-02-20T14:26:29.490090Z"
    }
   },
   "cell_type": "code",
   "source": "count = ~np.isin(ids,ids_in_frame)",
   "id": "56ebb35a86b34d0a",
   "outputs": [],
   "execution_count": 39
  },
  {
   "metadata": {
    "ExecuteTime": {
     "end_time": "2025-02-20T14:26:36.798158Z",
     "start_time": "2025-02-20T14:26:36.793688Z"
    }
   },
   "cell_type": "code",
   "source": "count.sum()",
   "id": "87af8e80264ad85e",
   "outputs": [
    {
     "data": {
      "text/plain": [
       "np.int64(0)"
      ]
     },
     "execution_count": 41,
     "metadata": {},
     "output_type": "execute_result"
    }
   ],
   "execution_count": 41
  },
  {
   "metadata": {
    "ExecuteTime": {
     "end_time": "2025-02-20T14:58:47.664553Z",
     "start_time": "2025-02-20T14:58:47.545951Z"
    }
   },
   "cell_type": "code",
   "source": "ads = [json.load(open(x,'r',encoding='utf-8')) for x in list(glob.glob('../data/ads/*.json'))[:10]]",
   "id": "963983ee3eaf1e7a",
   "outputs": [],
   "execution_count": 68
  },
  {
   "metadata": {
    "ExecuteTime": {
     "end_time": "2025-02-20T14:59:18.282937Z",
     "start_time": "2025-02-20T14:59:18.278992Z"
    }
   },
   "cell_type": "code",
   "source": "len(ads)",
   "id": "b9facd2f3f8ab6f",
   "outputs": [
    {
     "data": {
      "text/plain": [
       "10"
      ]
     },
     "execution_count": 71,
     "metadata": {},
     "output_type": "execute_result"
    }
   ],
   "execution_count": 71
  },
  {
   "metadata": {
    "ExecuteTime": {
     "end_time": "2025-02-20T14:28:17.768015Z",
     "start_time": "2025-02-20T14:28:17.763938Z"
    }
   },
   "cell_type": "code",
   "source": "ads[0].keys()",
   "id": "ec8cf09adf932e18",
   "outputs": [
    {
     "data": {
      "text/plain": [
       "dict_keys(['automatic_deletion_date', 'catalogue_shops', 'category_ids', 'certificates', 'condition', 'crashed', 'deleted_date', 'description', 'discount', 'external_certificates', 'external_link', 'extra_specifications', 'extras', 'finance', 'hidden_date', 'id', 'key_features', 'leasing', 'location', 'model_trims', 'offertype', 'other_classifieds', 'parts_for_vehicle', 'photos', 'photos_compact', 'price', 'price_check', 'price_per_unit', 'seo', 'seo_json_ld', 'short_videos', 'show_loans_info', 'similar_classifieds', 'similar_searches', 'specifications', 'states', 'tags', 'thumbs_patterns', 'title', 'title_parts', 'trades', 'videos'])"
      ]
     },
     "execution_count": 46,
     "metadata": {},
     "output_type": "execute_result"
    }
   ],
   "execution_count": 46
  },
  {
   "metadata": {
    "ExecuteTime": {
     "end_time": "2025-02-20T15:05:30.401726Z",
     "start_time": "2025-02-20T15:05:30.399114Z"
    }
   },
   "cell_type": "code",
   "source": "fields_to_keep = ['id','description','extras','specifications','model_trims']",
   "id": "8cc8846ee1016a45",
   "outputs": [],
   "execution_count": 79
  },
  {
   "metadata": {
    "ExecuteTime": {
     "end_time": "2025-02-20T14:43:37.878607Z",
     "start_time": "2025-02-20T14:43:37.873907Z"
    }
   },
   "cell_type": "code",
   "source": "ads[0]['extras'] # here we will need to get all names from every add and to get the unique names possible over the ads in order to have a set of all extras and treat it as a one hot encoding for each type of extra",
   "id": "765d99d29053b610",
   "outputs": [
    {
     "data": {
      "text/plain": [
       "[{'key': 412, 'name': 'abs', 'value': 'ABS'},\n",
       " {'key': 427, 'name': 'bluetooth', 'value': 'Bluetooth'},\n",
       " {'key': 437, 'name': 'cd_player', 'value': 'CD player'},\n",
       " {'key': 453, 'name': 'esp', 'value': 'ESP'},\n",
       " {'key': 459, 'name': 'immobilizer', 'value': 'Immobilizer'}]"
      ]
     },
     "execution_count": 51,
     "metadata": {},
     "output_type": "execute_result"
    }
   ],
   "execution_count": 51
  },
  {
   "metadata": {
    "ExecuteTime": {
     "end_time": "2025-02-20T18:33:26.329192Z",
     "start_time": "2025-02-20T18:33:26.321703Z"
    }
   },
   "cell_type": "code",
   "source": "ads[4]['specifications'] #Here we will need again",
   "id": "9fd39982ab77d3ef",
   "outputs": [
    {
     "data": {
      "text/plain": [
       "[{'label': 'Μάρκα - μοντέλο',\n",
       "  'name': 'makemodel',\n",
       "  'value': \"Volkswagen Golf gt '08\"},\n",
       " {'label': 'Νούμερο αγγελίας',\n",
       "  'name': 'classified_number',\n",
       "  'value': '343814526'},\n",
       " {'extra': {'debatable': True,\n",
       "   'foreign_numbers': None,\n",
       "   'raw_price': 7000,\n",
       "   'without_vat': None},\n",
       "  'label': 'Τιμή',\n",
       "  'name': 'price',\n",
       "  'raw_value': 7000,\n",
       "  'value': '7.000 €'},\n",
       " {'label': 'Κατάσταση', 'name': 'condition', 'value': 'Μεταχειρισμένο'},\n",
       " {'label': 'Κατηγορία',\n",
       "  'name': 'category',\n",
       "  'value': [{'category': {'human_name_plural': 'Κουπέ-Σπόρ', 'id': 15215},\n",
       "    'search': {'seo_url': '/classifieds/cars/?category=15'}}]},\n",
       " {'label': 'Χρονολογία', 'name': 'registration', 'value': '1/2008'},\n",
       " {'label': 'Χιλιόμετρα', 'name': 'mileage', 'value': '209.000 χλμ'},\n",
       " {'label': 'Καύσιμο', 'name': 'fuel_type', 'value': 'Βενζίνη'},\n",
       " {'label': 'Κυβικά', 'name': 'engine_size', 'value': '1.400 cc'},\n",
       " {'label': 'Ιπποδύναμη', 'name': 'engine_power', 'value': '180 bhp'},\n",
       " {'label': 'Σασμάν', 'name': 'gearbox_type', 'value': 'Χειροκίνητο'},\n",
       " {'label': 'Χρώμα', 'name': 'exterior_color', 'value': 'Μαύρο (Μεταλλικό)'},\n",
       " {'label': 'ΚΤΕΟ μέχρι', 'name': 'kteo', 'value': '4/2026'},\n",
       " {'label': 'Μέγεθος ζάντας', 'name': 'rim_size', 'value': '17 ίντσες'},\n",
       " {'label': 'Κλάση ρύπων', 'name': 'euroclass', 'value': 'Euro 4'},\n",
       " {'label': 'Τέλη κυκλοφορίας', 'name': 'circulation_tax', 'value': '250 €'},\n",
       " {'label': 'Κατανάλωση',\n",
       "  'name': 'fuel_consumption',\n",
       "  'suffix': 'λ/100χλμ',\n",
       "  'value': {'city': {'label': 'Εντός', 'value': '7,50'},\n",
       "   'mixed': {'label': 'Μικτό', 'value': '7,50'},\n",
       "   'motorway': {'label': 'Εκτός', 'value': '6,50'}}},\n",
       " {'label': 'Πινακίδα', 'name': 'number_plate_ending', 'value': 'Ζυγή'},\n",
       " {'label': 'Σύνολο κατόχων', 'name': 'previous_owners', 'value': '2'},\n",
       " {'label': 'Κίνηση', 'name': 'drive_type', 'value': 'Προσθιοκίνητο (FWD)'},\n",
       " {'label': 'Πόρτες', 'name': 'doors', 'value': '2'},\n",
       " {'label': 'Θέσεις επιβατών', 'name': 'seats', 'value': '5'}]"
      ]
     },
     "execution_count": 252,
     "metadata": {},
     "output_type": "execute_result"
    }
   ],
   "execution_count": 252
  },
  {
   "metadata": {
    "ExecuteTime": {
     "end_time": "2025-02-20T16:05:28.983426Z",
     "start_time": "2025-02-20T16:05:28.979051Z"
    }
   },
   "cell_type": "code",
   "source": "ads[5]['model_trims'][0] #Make a function that if not empty extract fuel_consumption,",
   "id": "f74ad56658f8fd71",
   "outputs": [
    {
     "data": {
      "text/plain": [
       "{'acceleration': 12.2,\n",
       " 'body_type': 'hatchback',\n",
       " 'doors': 5.0,\n",
       " 'drive_type': 'FWD',\n",
       " 'engine_power': 91.0,\n",
       " 'engine_size': 999.0,\n",
       " 'fuel_consumption': 4.9,\n",
       " 'gearbox_type': 'manual',\n",
       " 'gross_weight': 1603.0,\n",
       " 'id': 74627,\n",
       " 'make': 'Renault',\n",
       " 'make_id': 14844,\n",
       " 'model': 'Clio',\n",
       " 'number_of_gears': 6.0,\n",
       " 'top_speed': 180.0,\n",
       " 'torque': 160.0,\n",
       " 'trim': 'TCe 90 Experience',\n",
       " 'vehicle_height': 1798.0,\n",
       " 'vehicle_length': 4050.0,\n",
       " 'vehicle_width': 1440.0,\n",
       " 'wheelbase': 2583.0}"
      ]
     },
     "execution_count": 109,
     "metadata": {},
     "output_type": "execute_result"
    }
   ],
   "execution_count": 109
  },
  {
   "metadata": {
    "ExecuteTime": {
     "end_time": "2025-02-20T15:02:26.371424Z",
     "start_time": "2025-02-20T15:02:26.367441Z"
    }
   },
   "cell_type": "code",
   "source": "ads[6]['price_check']",
   "id": "21db21852a67e61c",
   "outputs": [
    {
     "data": {
      "text/plain": [
       "{'current_price': 15500,\n",
       " 'last_check': '2025-02-18 11:52:37',\n",
       " 'market_price': 13000,\n",
       " 'price_is_ok': True}"
      ]
     },
     "execution_count": 76,
     "metadata": {},
     "output_type": "execute_result"
    }
   ],
   "execution_count": 76
  },
  {
   "metadata": {
    "ExecuteTime": {
     "end_time": "2025-02-20T15:02:59.696435Z",
     "start_time": "2025-02-20T15:02:59.692390Z"
    }
   },
   "cell_type": "code",
   "source": "ads[6]['id']",
   "id": "50c43ebfc53050c3",
   "outputs": [
    {
     "data": {
      "text/plain": [
       "43271412"
      ]
     },
     "execution_count": 78,
     "metadata": {},
     "output_type": "execute_result"
    }
   ],
   "execution_count": 78
  },
  {
   "metadata": {
    "ExecuteTime": {
     "end_time": "2025-02-20T15:42:34.691481Z",
     "start_time": "2025-02-20T15:42:34.686783Z"
    }
   },
   "cell_type": "code",
   "source": [
    "def get_all_possible_extras(path_to_ads):\n",
    "    all_extras = []\n",
    "    for path in tqdm(path_to_ads):\n",
    "        try:\n",
    "            with open(path,'r',encoding='utf-8') as f:\n",
    "                all_extras.extend([ad['name'] for ad in json.load(f)['extras']])\n",
    "        except KeyError:\n",
    "            continue\n",
    "    return list(set(all_extras))\n"
   ],
   "id": "97cf922b6e7f778a",
   "outputs": [],
   "execution_count": 86
  },
  {
   "metadata": {
    "ExecuteTime": {
     "end_time": "2025-02-20T15:42:57.068963Z",
     "start_time": "2025-02-20T15:42:34.863705Z"
    }
   },
   "cell_type": "code",
   "source": "all_extras = get_all_possible_extras(list(glob.glob('../data/ads/*.json')))",
   "id": "dcb9aeca67e46d18",
   "outputs": [
    {
     "name": "stderr",
     "output_type": "stream",
     "text": [
      "100%|██████████| 113877/113877 [00:21<00:00, 5181.77it/s]\n"
     ]
    }
   ],
   "execution_count": 87
  },
  {
   "metadata": {
    "ExecuteTime": {
     "end_time": "2025-02-20T15:43:16.708885Z",
     "start_time": "2025-02-20T15:43:16.703919Z"
    }
   },
   "cell_type": "code",
   "source": "all_extras",
   "id": "14c81cf4fca5eb9",
   "outputs": [
    {
     "data": {
      "text/plain": [
       "['antique',\n",
       " 'cheques_accepted',\n",
       " 'turbo',\n",
       " 'steering_lights',\n",
       " 'collision_avoidance_system',\n",
       " 'trip_computer',\n",
       " 'wheelchair',\n",
       " 'apple_carplay',\n",
       " 'credit_card_accepted',\n",
       " 'extra:827',\n",
       " 'leather_seats',\n",
       " 'anti_theft_system_gps',\n",
       " 'rain_sensor',\n",
       " 'panoramic_roof',\n",
       " 'dvd',\n",
       " 'automatic_parking',\n",
       " 'warranty_extension',\n",
       " 'from_organization_of_public_materials_management',\n",
       " 'multi_purpose_steering_wheel',\n",
       " 'tcs_asr',\n",
       " 'tv_camera',\n",
       " 'seats_7+',\n",
       " 'power_windows',\n",
       " 'bucket_seats',\n",
       " 'hitch',\n",
       " 'aircondition(a_c)',\n",
       " 'heated_seats',\n",
       " 'power_seats',\n",
       " 'alumium_rims',\n",
       " 'locking_differential',\n",
       " 'android_auto',\n",
       " 'accept_exchange_with_car',\n",
       " 'hardtop',\n",
       " 'right_hand_drive_car',\n",
       " 'roof_rails',\n",
       " 'armored',\n",
       " 'lane_assist',\n",
       " 'imported',\n",
       " 'left_sliding_door',\n",
       " 'agricultural',\n",
       " 'never_crashed',\n",
       " 'immobilizer',\n",
       " 'notes_accepted',\n",
       " 'rear_view_camera',\n",
       " 'air_suspension',\n",
       " 'bluetooth',\n",
       " 'leasing',\n",
       " 'price_without_vat',\n",
       " 'parktronic',\n",
       " 'withdrawal_right',\n",
       " 'isofix_children_seats',\n",
       " 'electric_sunroof',\n",
       " 'abs',\n",
       " 'telephone',\n",
       " 'led_lights',\n",
       " 'gps',\n",
       " 'greek_dealership',\n",
       " 'automatic_air_conditioning',\n",
       " 'central_locking',\n",
       " 'hill_assist',\n",
       " 'tft_screen',\n",
       " 'cd_player',\n",
       " 'warranty',\n",
       " 'head_up_display',\n",
       " 'service_book',\n",
       " 'power_mirrors',\n",
       " 'eco_start_stop',\n",
       " 'alarm',\n",
       " 'taxfree_foreign_numbers',\n",
       " 'xenon',\n",
       " 'fog_lights',\n",
       " 'nonsmoker',\n",
       " 'power_steering',\n",
       " 'sliding_doors_x2',\n",
       " 'radio_player',\n",
       " 'acc',\n",
       " 'usb',\n",
       " 'cruise_control',\n",
       " 'keyless',\n",
       " 'price_for_large_families',\n",
       " 'exchange_with_bike',\n",
       " 'extra:826',\n",
       " 'right_sliding_door',\n",
       " 'exchange_boat_accepted',\n",
       " 'esp']"
      ]
     },
     "execution_count": 90,
     "metadata": {},
     "output_type": "execute_result"
    }
   ],
   "execution_count": 90
  },
  {
   "metadata": {
    "ExecuteTime": {
     "end_time": "2025-02-20T15:52:08.262547Z",
     "start_time": "2025-02-20T15:52:08.256048Z"
    }
   },
   "cell_type": "code",
   "source": [
    "def get_all_possible_specifications(path_to_ads):\n",
    "    all_specifications = []\n",
    "    for path in tqdm(path_to_ads):\n",
    "        try:\n",
    "            with open(path, 'r', encoding='utf-8') as f:\n",
    "                all_specifications.extend([spec['name'] for spec in json.load(f)['specifications']])\n",
    "        except KeyError:\n",
    "            continue\n",
    "    return list(set(all_specifications))\n"
   ],
   "id": "9dea6f3f94f61106",
   "outputs": [],
   "execution_count": 92
  },
  {
   "metadata": {
    "ExecuteTime": {
     "end_time": "2025-02-20T15:52:41.695265Z",
     "start_time": "2025-02-20T15:52:16.513276Z"
    }
   },
   "cell_type": "code",
   "source": "all_specs = get_all_possible_specifications(list(glob.glob('../data/ads/*.json')))",
   "id": "6498026cfaa4947b",
   "outputs": [
    {
     "name": "stderr",
     "output_type": "stream",
     "text": [
      "100%|██████████| 113877/113877 [00:24<00:00, 4561.70it/s]\n"
     ]
    }
   ],
   "execution_count": 93
  },
  {
   "metadata": {
    "ExecuteTime": {
     "end_time": "2025-02-20T15:53:00.164929Z",
     "start_time": "2025-02-20T15:53:00.158927Z"
    }
   },
   "cell_type": "code",
   "source": "all_specs",
   "id": "31b30c7cb0cad1b0",
   "outputs": [
    {
     "data": {
      "text/plain": [
       "['leasing',\n",
       " 'fuel_type',\n",
       " 'title',\n",
       " 'multichild_price',\n",
       " 'finance',\n",
       " 'drive_type',\n",
       " 'interior_type',\n",
       " 'makemodel',\n",
       " 'circulation_tax',\n",
       " 'home_delivery',\n",
       " 'mileage',\n",
       " 'battery_range',\n",
       " 'seats',\n",
       " 'for_makemodels',\n",
       " 'classified_number',\n",
       " 'fuel_consumption',\n",
       " 'condition',\n",
       " 'kteo',\n",
       " 'exterior_color',\n",
       " 'gearbox_type',\n",
       " 'rim_size',\n",
       " 'category',\n",
       " 'number_plate_ending',\n",
       " 'emissions_co2',\n",
       " 'battery_charge_time',\n",
       " 'doors',\n",
       " 'previous_owners',\n",
       " 'airbags',\n",
       " 'engine_size',\n",
       " 'price',\n",
       " 'euroclass',\n",
       " 'battery_quick_charge_time',\n",
       " 'offertype',\n",
       " 'interior_color',\n",
       " 'registration',\n",
       " 'battery_capacity',\n",
       " 'engine_power']"
      ]
     },
     "execution_count": 96,
     "metadata": {},
     "output_type": "execute_result"
    }
   ],
   "execution_count": 96
  },
  {
   "metadata": {},
   "cell_type": "markdown",
   "source": "We will keep specs:\n",
   "id": "57df2c1c673420c3"
  },
  {
   "metadata": {
    "ExecuteTime": {
     "end_time": "2025-02-20T17:19:58.845525Z",
     "start_time": "2025-02-20T17:19:58.842368Z"
    }
   },
   "cell_type": "code",
   "source": "specs = ['drive_type', 'interior_type', 'battery_range', 'seats', 'fuel_consumption', 'kteo', 'exterior_color','number_plate_ending','emissions_co2','battery_charge_time', 'doors', 'interior_color', 'rim_size']",
   "id": "6fd3e07fc06939da",
   "outputs": [],
   "execution_count": 187
  },
  {
   "metadata": {
    "ExecuteTime": {
     "end_time": "2025-02-20T16:27:50.548222Z",
     "start_time": "2025-02-20T16:27:50.544246Z"
    }
   },
   "cell_type": "code",
   "source": [
    "def get_all_possible_model_trims(path_to_ads):\n",
    "    all_model_trims = []\n",
    "    for path in tqdm(path_to_ads):\n",
    "        try:\n",
    "            with open(path, 'r', encoding='utf-8') as f:\n",
    "                ad = json.load(f)['model_trims']\n",
    "                if ad:\n",
    "                    all_model_trims.extend([trim for trim in ad[0].keys()])\n",
    "        except KeyError:\n",
    "            continue\n",
    "    return list(set(all_model_trims))\n"
   ],
   "id": "d4dcfcc0edba97d7",
   "outputs": [],
   "execution_count": 180
  },
  {
   "metadata": {
    "ExecuteTime": {
     "end_time": "2025-02-20T16:27:51.355229Z",
     "start_time": "2025-02-20T16:27:51.353100Z"
    }
   },
   "cell_type": "code",
   "source": "",
   "id": "4e6e0e4a68dc1fac",
   "outputs": [],
   "execution_count": null
  },
  {
   "metadata": {
    "ExecuteTime": {
     "end_time": "2025-02-20T16:28:06.912519Z",
     "start_time": "2025-02-20T16:27:52.154615Z"
    }
   },
   "cell_type": "code",
   "source": "model_trims = get_all_possible_model_trims(list(glob.glob('../data/ads/*.json')))",
   "id": "24145e322193b6eb",
   "outputs": [
    {
     "name": "stderr",
     "output_type": "stream",
     "text": [
      "100%|██████████| 113877/113877 [00:14<00:00, 7797.23it/s]\n"
     ]
    }
   ],
   "execution_count": 181
  },
  {
   "metadata": {
    "ExecuteTime": {
     "end_time": "2025-02-20T16:28:12.057193Z",
     "start_time": "2025-02-20T16:28:12.052401Z"
    }
   },
   "cell_type": "code",
   "source": "model_trims",
   "id": "a7ab4709e2bb7ddd",
   "outputs": [
    {
     "data": {
      "text/plain": [
       "['vehicle_height',\n",
       " 'number_of_gears',\n",
       " 'torque',\n",
       " 'gross_weight',\n",
       " 'acceleration',\n",
       " 'vehicle_width',\n",
       " 'drive_type',\n",
       " 'id',\n",
       " 'body_type',\n",
       " 'model',\n",
       " 'fuel_consumption',\n",
       " 'make_id',\n",
       " 'gearbox_type',\n",
       " 'vehicle_length',\n",
       " 'make',\n",
       " 'top_speed',\n",
       " 'doors',\n",
       " 'engine_size',\n",
       " 'trim',\n",
       " 'wheelbase',\n",
       " 'engine_power']"
      ]
     },
     "execution_count": 183,
     "metadata": {},
     "output_type": "execute_result"
    }
   ],
   "execution_count": 183
  },
  {
   "metadata": {
    "ExecuteTime": {
     "end_time": "2025-02-20T18:37:42.048117Z",
     "start_time": "2025-02-20T18:37:42.045120Z"
    }
   },
   "cell_type": "code",
   "source": "intersection = list(set(all_specs) & set(model_trims))",
   "id": "280e7fca4709f092",
   "outputs": [],
   "execution_count": 261
  },
  {
   "metadata": {
    "ExecuteTime": {
     "end_time": "2025-02-20T18:37:47.527614Z",
     "start_time": "2025-02-20T18:37:47.524025Z"
    }
   },
   "cell_type": "code",
   "source": "intersection",
   "id": "ddf2175f92114c5c",
   "outputs": [
    {
     "data": {
      "text/plain": [
       "['doors',\n",
       " 'drive_type',\n",
       " 'engine_size',\n",
       " 'gearbox_type',\n",
       " 'fuel_consumption',\n",
       " 'engine_power']"
      ]
     },
     "execution_count": 262,
     "metadata": {},
     "output_type": "execute_result"
    }
   ],
   "execution_count": 262
  },
  {
   "metadata": {},
   "cell_type": "markdown",
   "source": "aModel trims we will keep:",
   "id": "f9c05688447fdac1"
  },
  {
   "metadata": {
    "ExecuteTime": {
     "end_time": "2025-02-20T16:47:39.993107Z",
     "start_time": "2025-02-20T16:47:39.989368Z"
    }
   },
   "cell_type": "code",
   "source": [
    "model_trims_to_keep = ['vehicle_height',\n",
    " 'number_of_gears',\n",
    " 'torque',\n",
    " 'gross_weight',\n",
    " 'acceleration',\n",
    " 'vehicle_width',\n",
    " 'drive_type', #common with specs\n",
    " 'body_type',\n",
    " 'fuel_consumption', #common with specs\n",
    " 'vehicle_length',\n",
    " 'top_speed',\n",
    " 'doors', #common with specs\n",
    " 'trim',\n",
    " 'wheelbase']"
   ],
   "id": "11d21198ee1c2ab5",
   "outputs": [],
   "execution_count": 184
  },
  {
   "metadata": {},
   "cell_type": "code",
   "outputs": [],
   "execution_count": null,
   "source": [
    "#get ads with fields necessary\n",
    "\n",
    "def load_json(path):\n",
    "    try:\n",
    "        with open(path,'r',encoding='utf-8') as f:\n",
    "            ad = json.load(f)\n",
    "            return {key: ad[key] for key in fields_to_keep if key in ad.keys()}\n",
    "    except (JSONDecodeError, KeyError) as e:\n",
    "        return None"
   ],
   "id": "cd3df8a3491d3b6d"
  },
  {
   "metadata": {},
   "cell_type": "markdown",
   "source": [
    "So now we will define our processing method to create the enriching dataset based on the scraped ads:\n",
    "For each ad:\n",
    "* Extract description, extras, specifications and model_trims\n",
    "* transform extras as a dict with all possible extras and true or false according to the presence of the key in the extras of the ad\n",
    "* transform specifications as a dict with all possible kept specs and their values without doors, fuel_consumption, drive_type\n",
    "* transform model trims as a dict with all possible kept specs and their values without doors, fuel_consumption, drive_type\n",
    "* if doors, fuel_conumption, drive_type in model_trims create dict with the values else test in specs else return a dict with nan\n",
    "\n"
   ],
   "id": "98701e26ad00ee10"
  },
  {
   "metadata": {
    "ExecuteTime": {
     "end_time": "2025-02-20T19:22:46.082154Z",
     "start_time": "2025-02-20T19:22:46.073342Z"
    }
   },
   "cell_type": "code",
   "source": [
    "def process_extras(extras, extras_to_keep):\n",
    "    if isinstance(extras,list) and extras:\n",
    "        present_extras = {extra['name'] for extra in extras}\n",
    "        return {extra: (extra in present_extras) for extra in extras_to_keep}\n",
    "    return {extra: None for extra in extras_to_keep}\n",
    "\n",
    "def process_specifications(specs, specs_to_keep):\n",
    "    if isinstance(specs,list) and specs:\n",
    "        return {spec: next((item['value'] for item in specs if item['name'] == spec),None)  for spec in specs_to_keep}\n",
    "    return {spec: None for spec in specs_to_keep}\n",
    "\n",
    "def process_model_trims(model_trims, model_trims_to_keep):\n",
    "    if model_trims:\n",
    "        return {trim : model_trims[0][trim] for trim in model_trims_to_keep}\n",
    "    return {trim: None for trim in model_trims_to_keep}\n",
    "\n",
    "def process_fuel_consumption(specs,model_trims):\n",
    "    if isinstance(model_trims,list) and model_trims and 'fuel_consumption' in model_trims[0].keys():\n",
    "        return {'fuel_consumption': model_trims[0]['fuel_consumption']}\n",
    "    else:\n",
    "        res = next((item['value'] for item in specs if item['name'] == 'fuel_consumption'),None)\n",
    "        if isinstance(res,dict) and 'mixed' in res and 'value' in res['mixed']:\n",
    "            return {'fuel_consumption' : res['mixed']['value']}\n",
    "\n",
    "    return {'fuel_consumption': None}\n",
    "\n",
    "\n",
    "def process_drive_type(specs,model_trims):\n",
    "    if isinstance(model_trims,list) and model_trims and 'drive_type' in model_trims[0].keys():\n",
    "        return {'drive_type': model_trims[0]['drive_type']}\n",
    "\n",
    "    return {'drive_type' : next((item['value'] for item in specs if item['name'] == 'drive_type'),None)}\n",
    "\n",
    "\n",
    "def process_doors(specs,model_trims):\n",
    "    if isinstance(model_trims,list) and model_trims and 'doors' in model_trims[0].keys():\n",
    "        return {'doors': model_trims[0]['doors']}\n",
    "\n",
    "    return {'doors' : next((item['value'] for item in specs if item['name'] == 'doors'),None)}"
   ],
   "id": "d5ae55bfd9847bc4",
   "outputs": [],
   "execution_count": 331
  },
  {
   "metadata": {
    "ExecuteTime": {
     "end_time": "2025-02-20T18:31:22.435659Z",
     "start_time": "2025-02-20T18:31:22.430921Z"
    }
   },
   "cell_type": "code",
   "source": "process_fuel_consumption(ads[4]['specifications'],ads[4]['model_trims'])",
   "id": "96a67aedf4798f5d",
   "outputs": [
    {
     "data": {
      "text/plain": [
       "{'fuel_consumption': '7,50'}"
      ]
     },
     "execution_count": 250,
     "metadata": {},
     "output_type": "execute_result"
    }
   ],
   "execution_count": 250
  },
  {
   "metadata": {
    "ExecuteTime": {
     "end_time": "2025-02-20T18:34:34.037128Z",
     "start_time": "2025-02-20T18:34:34.034099Z"
    }
   },
   "cell_type": "code",
   "source": "process_drive_type(ads[8]['specifications'],ads[4]['model_trims'])",
   "id": "9e5adce5d96f846b",
   "outputs": [
    {
     "data": {
      "text/plain": [
       "{'drive_type': None}"
      ]
     },
     "execution_count": 258,
     "metadata": {},
     "output_type": "execute_result"
    }
   ],
   "execution_count": 258
  },
  {
   "metadata": {
    "ExecuteTime": {
     "end_time": "2025-02-20T18:38:57.352917Z",
     "start_time": "2025-02-20T18:38:57.349862Z"
    }
   },
   "cell_type": "code",
   "source": "process_doors(ads[8]['specifications'],ads[4]['model_trims'])",
   "id": "db00088f0bf53a93",
   "outputs": [
    {
     "data": {
      "text/plain": [
       "{'doors': '2'}"
      ]
     },
     "execution_count": 264,
     "metadata": {},
     "output_type": "execute_result"
    }
   ],
   "execution_count": 264
  },
  {
   "metadata": {
    "ExecuteTime": {
     "end_time": "2025-02-20T18:28:42.955189Z",
     "start_time": "2025-02-20T18:28:42.952150Z"
    }
   },
   "cell_type": "code",
   "source": "process_fuel_consumption(ads[4]['specifications'],ads[4]['model_trims'])",
   "id": "fc44f0ebccc3e11f",
   "outputs": [],
   "execution_count": 236
  },
  {
   "metadata": {
    "ExecuteTime": {
     "end_time": "2025-02-20T17:33:41.978066Z",
     "start_time": "2025-02-20T17:33:41.973531Z"
    }
   },
   "cell_type": "code",
   "source": "process_extras(ads[6]['extras'],all_extras)",
   "id": "69bcf9de547e7785",
   "outputs": [
    {
     "data": {
      "text/plain": [
       "{'antique': False,\n",
       " 'cheques_accepted': False,\n",
       " 'turbo': False,\n",
       " 'steering_lights': False,\n",
       " 'collision_avoidance_system': True,\n",
       " 'trip_computer': True,\n",
       " 'wheelchair': False,\n",
       " 'apple_carplay': False,\n",
       " 'credit_card_accepted': False,\n",
       " 'extra:827': False,\n",
       " 'leather_seats': True,\n",
       " 'anti_theft_system_gps': False,\n",
       " 'rain_sensor': False,\n",
       " 'panoramic_roof': False,\n",
       " 'dvd': False,\n",
       " 'automatic_parking': False,\n",
       " 'warranty_extension': False,\n",
       " 'from_organization_of_public_materials_management': False,\n",
       " 'multi_purpose_steering_wheel': True,\n",
       " 'tcs_asr': False,\n",
       " 'tv_camera': True,\n",
       " 'seats_7+': False,\n",
       " 'power_windows': True,\n",
       " 'bucket_seats': True,\n",
       " 'hitch': False,\n",
       " 'aircondition(a_c)': False,\n",
       " 'heated_seats': False,\n",
       " 'power_seats': False,\n",
       " 'alumium_rims': True,\n",
       " 'locking_differential': False,\n",
       " 'android_auto': True,\n",
       " 'accept_exchange_with_car': True,\n",
       " 'hardtop': False,\n",
       " 'right_hand_drive_car': False,\n",
       " 'roof_rails': False,\n",
       " 'armored': False,\n",
       " 'lane_assist': True,\n",
       " 'imported': False,\n",
       " 'left_sliding_door': False,\n",
       " 'agricultural': False,\n",
       " 'never_crashed': True,\n",
       " 'immobilizer': True,\n",
       " 'notes_accepted': False,\n",
       " 'rear_view_camera': False,\n",
       " 'air_suspension': False,\n",
       " 'bluetooth': True,\n",
       " 'leasing': False,\n",
       " 'price_without_vat': False,\n",
       " 'parktronic': True,\n",
       " 'withdrawal_right': False,\n",
       " 'isofix_children_seats': True,\n",
       " 'electric_sunroof': False,\n",
       " 'abs': True,\n",
       " 'telephone': False,\n",
       " 'led_lights': True,\n",
       " 'gps': False,\n",
       " 'greek_dealership': True,\n",
       " 'automatic_air_conditioning': True,\n",
       " 'central_locking': True,\n",
       " 'hill_assist': False,\n",
       " 'tft_screen': True,\n",
       " 'cd_player': False,\n",
       " 'warranty': True,\n",
       " 'head_up_display': False,\n",
       " 'service_book': True,\n",
       " 'power_mirrors': True,\n",
       " 'eco_start_stop': True,\n",
       " 'alarm': False,\n",
       " 'taxfree_foreign_numbers': False,\n",
       " 'xenon': False,\n",
       " 'fog_lights': True,\n",
       " 'nonsmoker': False,\n",
       " 'power_steering': True,\n",
       " 'sliding_doors_x2': False,\n",
       " 'radio_player': False,\n",
       " 'acc': False,\n",
       " 'usb': True,\n",
       " 'cruise_control': True,\n",
       " 'keyless': False,\n",
       " 'price_for_large_families': False,\n",
       " 'exchange_with_bike': False,\n",
       " 'extra:826': False,\n",
       " 'right_sliding_door': False,\n",
       " 'exchange_boat_accepted': False,\n",
       " 'esp': True}"
      ]
     },
     "execution_count": 194,
     "metadata": {},
     "output_type": "execute_result"
    }
   ],
   "execution_count": 194
  },
  {
   "metadata": {
    "ExecuteTime": {
     "end_time": "2025-02-20T17:36:49.725613Z",
     "start_time": "2025-02-20T17:36:49.721312Z"
    }
   },
   "cell_type": "code",
   "source": "process_specifications(ads[6]['specifications'],specs)",
   "id": "16d9ecf146d20f93",
   "outputs": [
    {
     "data": {
      "text/plain": [
       "{'drive_type': 'Προσθιοκίνητο (FWD)',\n",
       " 'interior_type': 'Δέρμα',\n",
       " 'battery_range': None,\n",
       " 'seats': '5',\n",
       " 'fuel_consumption': {'city': {'label': 'Εντός', 'value': '6,80'},\n",
       "  'mixed': {'label': 'Μικτό', 'value': '5,40'},\n",
       "  'motorway': {'label': 'Εκτός', 'value': '4,50'}},\n",
       " 'kteo': '10/2025',\n",
       " 'exterior_color': 'Μαύρο (Μεταλλικό)',\n",
       " 'number_plate_ending': 'Μονή',\n",
       " 'emissions_co2': '124 g/km',\n",
       " 'battery_charge_time': None,\n",
       " 'doors': '5',\n",
       " 'interior_color': 'Γκρι',\n",
       " 'rim_size': '16 ίντσες'}"
      ]
     },
     "execution_count": 196,
     "metadata": {},
     "output_type": "execute_result"
    }
   ],
   "execution_count": 196
  },
  {
   "metadata": {
    "ExecuteTime": {
     "end_time": "2025-02-20T19:02:13.831344Z",
     "start_time": "2025-02-20T19:02:13.826550Z"
    }
   },
   "cell_type": "code",
   "source": "process_model_trims(ads[1]['model_trims'],model_trims_to_keep)",
   "id": "28beb23e410eb9b2",
   "outputs": [
    {
     "data": {
      "text/plain": [
       "{'vehicle_height': None,\n",
       " 'number_of_gears': None,\n",
       " 'torque': None,\n",
       " 'gross_weight': None,\n",
       " 'acceleration': None,\n",
       " 'vehicle_width': None,\n",
       " 'body_type': None,\n",
       " 'vehicle_length': None,\n",
       " 'top_speed': None,\n",
       " 'trim': None,\n",
       " 'wheelbase': None}"
      ]
     },
     "execution_count": 288,
     "metadata": {},
     "output_type": "execute_result"
    }
   ],
   "execution_count": 288
  },
  {
   "metadata": {
    "ExecuteTime": {
     "end_time": "2025-02-20T18:41:18.740926Z",
     "start_time": "2025-02-20T18:41:18.736534Z"
    }
   },
   "cell_type": "code",
   "source": "{**{'car':'zouzou'}, **{'model': 'fifi'}}",
   "id": "1f8bb44a8304e565",
   "outputs": [
    {
     "data": {
      "text/plain": [
       "{'car': 'zouzou', 'model': 'fifi'}"
      ]
     },
     "execution_count": 266,
     "metadata": {},
     "output_type": "execute_result"
    }
   ],
   "execution_count": 266
  },
  {
   "metadata": {
    "ExecuteTime": {
     "end_time": "2025-02-20T19:05:17.204062Z",
     "start_time": "2025-02-20T19:05:17.199021Z"
    }
   },
   "cell_type": "code",
   "source": [
    "def process_description(ad):\n",
    "    description = ad['description']\n",
    "    if description is None:\n",
    "        return {'description': None}\n",
    "    else:\n",
    "        return {'description': description['content']}"
   ],
   "id": "dda9723560ffc09a",
   "outputs": [],
   "execution_count": 294
  },
  {
   "metadata": {
    "ExecuteTime": {
     "end_time": "2025-02-20T19:12:36.293647Z",
     "start_time": "2025-02-20T19:12:36.290195Z"
    }
   },
   "cell_type": "code",
   "source": [
    "def get_model_trims(ad):\n",
    "    try :\n",
    "        return ad['model_trims']\n",
    "    except KeyError:\n",
    "        return []\n",
    "\n",
    "def get_specifications(ad):\n",
    "    try :\n",
    "        return ad['specifications']\n",
    "    except KeyError:\n",
    "        return []\n",
    "\n",
    "\n",
    "def get_extras(ad):\n",
    "    try :\n",
    "        return ad['extras']\n",
    "    except KeyError:\n",
    "        return []"
   ],
   "id": "7ee5d9999916fd19",
   "outputs": [],
   "execution_count": 314
  },
  {
   "metadata": {
    "ExecuteTime": {
     "end_time": "2025-02-20T19:23:01.844349Z",
     "start_time": "2025-02-20T19:23:01.837959Z"
    }
   },
   "cell_type": "code",
   "source": [
    "model_trims_to_keep = ['vehicle_height', 'number_of_gears', 'torque', 'gross_weight', 'acceleration', 'vehicle_width', 'body_type', 'vehicle_length', 'top_speed', 'trim', 'wheelbase']\n",
    "\n",
    "specs_to_keep = ['interior_type', 'battery_range', 'seats', 'kteo', 'exterior_color','number_plate_ending','emissions_co2','battery_charge_time', 'interior_color', 'rim_size']\n",
    "\n",
    "\n",
    "def create_enrichment_set(path_to_ads):\n",
    "    res_df = []\n",
    "    failed_ads = []\n",
    "    for path in tqdm(path_to_ads):\n",
    "        try:\n",
    "            with open(path,'r',encoding='utf-8') as f:\n",
    "                ad = json.load(f)\n",
    "                id_dict = {'id' : str(os.path.splitext(os.path.basename(path))[0])}\n",
    "                description_dict = process_description(ad)\n",
    "                extras = get_extras(ad)\n",
    "                specifications = get_specifications(ad)\n",
    "                model_trims = get_model_trims(ad)\n",
    "                extras_dict = process_extras(extras,all_extras)\n",
    "                specifications_dict = process_specifications(specifications,specs_to_keep)\n",
    "                model_trims_dict = process_model_trims(model_trims,model_trims_to_keep)\n",
    "                fuel_consumption_dict = process_fuel_consumption(specifications,model_trims)\n",
    "                drive_type_dict = process_drive_type(specifications,model_trims)\n",
    "                doors_dict = process_doors(specifications,model_trims)\n",
    "                res_df.append({**id_dict,**description_dict,**extras_dict,**specifications_dict,**model_trims_dict,**fuel_consumption_dict,**drive_type_dict,**doors_dict})\n",
    "        except KeyError:\n",
    "            failed_ads.append(path)\n",
    "    return res_df,failed_ads\n",
    "\n"
   ],
   "id": "3758021f8ef92e4c",
   "outputs": [],
   "execution_count": 332
  },
  {
   "metadata": {
    "ExecuteTime": {
     "end_time": "2025-02-20T19:23:39.277691Z",
     "start_time": "2025-02-20T19:23:02.427630Z"
    }
   },
   "cell_type": "code",
   "source": "df,failed_ads = create_enrichment_set(list(glob.glob('../data/ads/*.json')))",
   "id": "8e814b8315f31a76",
   "outputs": [
    {
     "name": "stderr",
     "output_type": "stream",
     "text": [
      "100%|██████████| 113877/113877 [00:36<00:00, 3113.43it/s]\n"
     ]
    }
   ],
   "execution_count": 333
  },
  {
   "metadata": {
    "ExecuteTime": {
     "end_time": "2025-02-20T19:23:42.334345Z",
     "start_time": "2025-02-20T19:23:42.330204Z"
    }
   },
   "cell_type": "code",
   "source": "len(df)",
   "id": "c3b78c6b27a64408",
   "outputs": [
    {
     "data": {
      "text/plain": [
       "113877"
      ]
     },
     "execution_count": 334,
     "metadata": {},
     "output_type": "execute_result"
    }
   ],
   "execution_count": 334
  },
  {
   "metadata": {
    "ExecuteTime": {
     "end_time": "2025-02-20T19:25:17.574909Z",
     "start_time": "2025-02-20T19:25:16.401289Z"
    }
   },
   "cell_type": "code",
   "source": "enrichment_df = pd.DataFrame(df)",
   "id": "41e9ec86f0bdc729",
   "outputs": [],
   "execution_count": 339
  },
  {
   "metadata": {
    "ExecuteTime": {
     "end_time": "2025-02-20T19:33:25.806796Z",
     "start_time": "2025-02-20T19:33:25.801888Z"
    }
   },
   "cell_type": "code",
   "source": "enrichment_df.fuel_consumption",
   "id": "815ee16c63202fa0",
   "outputs": [
    {
     "data": {
      "text/plain": [
       "0         None\n",
       "1         3,80\n",
       "2         None\n",
       "3          6.8\n",
       "4         7,50\n",
       "          ... \n",
       "113872    None\n",
       "113873    None\n",
       "113874     3.6\n",
       "113875    None\n",
       "113876    11.1\n",
       "Name: fuel_consumption, Length: 113877, dtype: object"
      ]
     },
     "execution_count": 365,
     "metadata": {},
     "output_type": "execute_result"
    }
   ],
   "execution_count": 365
  },
  {
   "metadata": {
    "ExecuteTime": {
     "end_time": "2025-02-20T19:26:09.469726Z",
     "start_time": "2025-02-20T19:26:06.905419Z"
    }
   },
   "cell_type": "code",
   "source": "enrichment_df.to_csv('../data/enrichment_df.csv',index=False)",
   "id": "5dc213ab02d44ac6",
   "outputs": [],
   "execution_count": 342
  },
  {
   "metadata": {
    "ExecuteTime": {
     "end_time": "2025-02-20T19:28:37.718715Z",
     "start_time": "2025-02-20T19:28:37.715662Z"
    }
   },
   "cell_type": "code",
   "source": [
    "pd.set_option('display.max_columns',None)\n",
    "pd.set_option(\"display.width\", 1000)"
   ],
   "id": "a63316b80bcc2c2b",
   "outputs": [],
   "execution_count": 354
  },
  {
   "metadata": {
    "ExecuteTime": {
     "end_time": "2025-02-20T19:28:38.246568Z",
     "start_time": "2025-02-20T19:28:38.239484Z"
    }
   },
   "cell_type": "code",
   "source": "enrichment_df.info()",
   "id": "78be628fab24fe62",
   "outputs": [
    {
     "name": "stdout",
     "output_type": "stream",
     "text": [
      "<class 'pandas.core.frame.DataFrame'>\n",
      "RangeIndex: 113877 entries, 0 to 113876\n",
      "Columns: 111 entries, id to doors\n",
      "dtypes: float64(9), object(102)\n",
      "memory usage: 96.4+ MB\n"
     ]
    }
   ],
   "execution_count": 355
  },
  {
   "metadata": {
    "ExecuteTime": {
     "end_time": "2025-02-20T19:32:32.168454Z",
     "start_time": "2025-02-20T19:32:31.861827Z"
    }
   },
   "cell_type": "code",
   "source": "enrichment_df.isna().sum()",
   "id": "9be1bed2af17efea",
   "outputs": [
    {
     "data": {
      "text/plain": [
       "id                      0\n",
       "description         23326\n",
       "antique             25265\n",
       "cheques_accepted    25265\n",
       "turbo               25265\n",
       "                    ...  \n",
       "trim                55710\n",
       "wheelbase           52345\n",
       "fuel_consumption    44596\n",
       "drive_type          15434\n",
       "doors                   6\n",
       "Length: 111, dtype: int64"
      ]
     },
     "execution_count": 364,
     "metadata": {},
     "output_type": "execute_result"
    }
   ],
   "execution_count": 364
  },
  {
   "metadata": {
    "ExecuteTime": {
     "end_time": "2025-02-20T19:55:07.473942Z",
     "start_time": "2025-02-20T19:55:07.470229Z"
    }
   },
   "cell_type": "code",
   "source": "ads[5]['extras']",
   "id": "fbc32fbf55bc44e2",
   "outputs": [
    {
     "data": {
      "text/plain": [
       "[]"
      ]
     },
     "execution_count": 371,
     "metadata": {},
     "output_type": "execute_result"
    }
   ],
   "execution_count": 371
  },
  {
   "metadata": {
    "ExecuteTime": {
     "end_time": "2025-02-20T19:54:12.290122Z",
     "start_time": "2025-02-20T19:54:12.251297Z"
    }
   },
   "cell_type": "code",
   "source": "enrichment_df.head(10)",
   "id": "2686dea55ead46b7",
   "outputs": [
    {
     "data": {
      "text/plain": [
       "          id  \\\n",
       "0   41737621   \n",
       "1   43324109   \n",
       "2   43930480   \n",
       "3   42960446   \n",
       "4  343814526   \n",
       "5  339383970   \n",
       "6   43271412   \n",
       "7  342992591   \n",
       "8   44175689   \n",
       "9   44345512   \n",
       "\n",
       "                                                                                                                                                                                                                                                                                                                                                                                                                                                                                                                                                                                                                                                                                                                                                                                                                                                                                                                                                                                                                                                                                                                                                                                                                                                                                                                                                                                                                                                                                                                                                                                                                                                                                                                                                                                                                                                                           description  \\\n",
       "0                                                                                                                                                                                                                                                                                                                                                                                                                                                                                                                                                                                                                                                                                                                                                                                                                                                                                                                                                                                                                                                                                                                                                                                                                                                                                                                                                                                                                                                                                                                                                                                                                                                                                      Το αυτοκίνητο είναι σε υπέρ άριστη κατάσταση \\nΌταν το πήρα για προληπτικούς λόγους και μόνο άλλαξα ολόκληρο σετ συμπλέκτη και φρένα \\nΆριστο σε όλα του \\n\\n\\nΠαρακαλώ όχι άσκοπα τηλεφωνήματα   \n",
       "1                                                                                                                                                                                                                                                                                                                                                                                                                                                                                                                                                                                                                                                                                                                                                                                                                                                                                                                                                                       • ΣΕ ΕΞΑΙΡΕΤΙΚΗ ΚΑΤΑΣΤΑΣΗ\\n• BOOK SERVICE ΑΝΤΙΠΡΟΣΩΠΕΙΑΣ\\n• ΕΝΤΟΣ ΕΡΓΟΣΤΑΣΙΑΚΗΣ ΕΓΓΥΗΣΗΣ\\n• 1 ΧΕΡΙ, ΕΛΛΗΝΙΚO\\n\\n♠ 1.8 HSD E-CVT Business 122bhp ♠\\n\\n• ΔΕΡΜΑΤΙΝΟ ΤΙΜΟΝΙ ΜΕ ΧΕΙΡΙΣΤΗΡΙΑ\\n• ΔΕΡΜΑΤΙΝΟ ΥΠΟΒΡΑΧΙΟΝΙΟ (Arm rest)\\n• ΠΡΟΒΛΕΨΗ ΠΑΙΔΙΚΩΝ ΚΑΘΙΣΜΑΤΩΝ (Isofix)\\n• ΥΠΟΛΟΓΙΣΤΗ ΤΑΞΙΔΙΟΥ (Trip computer)\\n• ΨΗΦΙΑΚΗ ΟΘΟΝΗ ΠΟΛΛΑΠΛΩΝ ΕΝΔΕΙΞΕΩΝ\\n• ΕΡΓΟΣΤΑΣΙΑΚΗ ΠΛΟΗΓΗΣΗ (Navigation)\\n• ΚΑΜΕΡΑ ΟΠΙΣΘΟΠΟΡΕΙΑΣ (Reverse camera)\\n• ΣΥΝΔΕΣΙΜΟΤΗΤΑ (Bluetooth/Usb/Aux)\\n• ΨΗΦΙΑΚΟ ΚΛΙΜΑΤΙΣΜΟ (clima)\\n• ΠΡΟΓΡΑΜΜΑ ΟΔΗΓΗΣΗΣ (Ev Mode)\\n• ΑΥΤΟΜΑΤΟ ΠΙΛΟΤΟ (Cruise control)\\n• ΑΙΣΘΗΤΗΡΑ ΦΩΤΩΝ (Light sensor)\\n• ΑΙΣΘΗΤΗΡΑ ΒΡΟΧΗΣ (Rain sensor)\\n• ΑΣΥΡΜΑΤΗ ΕΚΚΙΝΗΣΗ ΚΙΝΗΤΗΡΑ (Keyless GO)\\n• ΣΥΣΤΗΜΑ ΑΝΤΙΜΠΛΟΚΑΡΙΣΜΑΤΟΣ ΤΡΟΧΩΝ (ABS)\\n• ΗΛΕΚΤΡΟΝΙΚΟΣ ΕΛΕΓΧΟΣ ΕΥΣΤΑΘΕΙΑΣ (ESP)\\n• ΖΑΝΤΕΣ ΑΛΟΥΜΙΝΙΟΥ 17\"\\n• ΦΩΤΑ ΗΜΕΡΑΣ (Led)\\n\\n- 1Η ΚΥΚΛΟΦΟΡΙΑ .10/10/2019\\n• ΜΗΔΕΝΙΚΑ ΤΕΛΗ ΚΥΚΛΟΦΟΡΙΑΣ\\n• VIN : NMTKZ3BX90R338616   \n",
       "2                                                                                                                                                                                                                                                                                                                                                                                                                                                                                                                                                                                                                                                                                                                                                                                                                                                                                                                                                                                                                                                                                                                                                                                                                                                                                                                                                                                                                                                                                                                                                                                                                                                                                                                                                                                                                                                                                 None   \n",
       "3                                                                                                                                                                                                                                                                                                                                                                                                                                                                                                                                                                                                                                                                                                                                                                                                                                                                                                                                                                                                                                                                                                                                                                                                                                                                                                                                                                                                                                                                                                                                                                                                                                                                                                                                                                                                                                    Σε τέλεια κατάσταση αψεγάδιαστο. Πολύ προσεγμένο.   \n",
       "4                                                                                                                                                                                                                                                                                                                                                                                                                                                                                                                                                                                                                                                                                                                                                                                                                      Πληρωμένα ΤΕΛΗ του 2025!!\\nΤο αυτοκίνητο είναι άψογο μηχανικά έχει βιβλίο σερβις αλλαγή λαδιών κάθε 5000 χλμτρ (δεν καίει σταγόνα λάδι) έχει αλλαχτεί πρόσφατα σετ καδένας έχει λάστιχα ενός χρόνου έχει τοποθετηθεί ολόσωμη εξατμιση r32 με downpipe χωρίς καταλυτες και εισαγωγή με φίλτρο χοάνη έχουν αλλαχτεί επισης οι πολλαπλασιαστής ο δυναμος και τα μπουζια . Πρόσφατα επισης αγοραστικέ body kit r32 πίσω προφυλακτήρα και μασπιε από gti όπως και ζάντες από gti . Εσωτερικά έχουν αλλαχτεί τα φώτα και έχουν γίνει όλα led όπως έχει αλλαχτεί και ο ουρανός και οι πόρτες έχουν επενδυθεί με alcadara. Επιπλεον έχει τοποθετηθεί οθονη multimedia.Το αυτοκίνητο το δίνω λόγω αγοράς αλλου είναι οικονομικό για αυτό που είναι όποτε είναι ιδανικό για καθημερινό. Η τιμή είναι συζητήσιμη σε λογικά πλαίσια παρακαλώ μόνο σοβαρές προτάσεις . Δεκτός κάθε έλεγχος * Στο αυτοκίνητο πριν δωθεί θα βαφτεί η καινούργια προφυλακτήρα πίσω και θα τοποθετηθούν οι καινούργιοι μασπιεδες gti επισης θα δώσουν καινούργια led για μεσαία και μεγάλη σκάλα   \n",
       "5                                                                                                                                                                                                                                                                                                                                                                                                                                                                                                                                                                                                                                                                                                                                                                                                                                                                                                                                                                                                                                                                                                                                                                                                                                                                                                                                                                                                                                                                                                                                                                                                                                                                                                                                                                                                      ΜΕ ΕΡΓΟΣΤΑΣΙΑΚΗ ΕΓΓΥΗΣΗ\\n\\n* ΣΤΗΝ ΤΙΜΗ ΔΕΝ ΠΕΡΙΛΑΜΒΑΝΟΝΤΑΙ ΤΑ ΕΞΟΔΑ ΜΕΤΑΒΙΒΑΣΗΣ   \n",
       "6  ΑΛΙΒΙΖΑΤΟΣ CARS         ΤΟ ΨΑΧΝΕΙΣ ΠΑΝΤΟΥ ; ... \\n\\nΤΟ ΕΧΟΥΜΕ ΕΔΩ !!!       Λ.ΠΕΝΤΕΛΗΣ 3 , ΒΡΙΛΗΣΣΙΑ       [ ΧΩΡΙΣ ΡΑΝΤΕΒΟΥ ] !!!\\n\\nΚΟΡΥΦΑΙΑ ΜΕΤΑΧΕΙΡΙΣΜΕΝΑ ΑΥΤΟΚΙΝΗΤΑ\\n\\n• EΞΟΠΛΙΣΜΟΣ KIA PICANTO 1.2 AUTOMATIC GT LINE 84hp\\n\\n• ΣΑΝ ΚΑΙΝΟΥΡΙΟ........SPORT ΕΚΔΟΣΗ GT LINE!!!\\n• SPORT ΔΕΡΜΑΤΙΝΟ ΣΑΛΟΝΙ ΜΑΥΡΟ/ΚΟΚΚΙΝΟ\\n• SPORT ΠΡΟΦΥΛΑΚΤΗΡΕΣ \\n• ΔΙΠΛΗ ΔΙΑΚΟΣΜΗΤΙΚΗ ΕΞΑΤΜΙΣΗ\\n• ΠΛΕΥΡΙΚΑ ΜΑΣΠΙΕ\\n• ΔΕΡΜΑΤΙΝΟ ΤΙΜΟΝΙ ΚΑΙ ΕΠΙΛΟΓΕΑΣ ΤΑΧΥΤΗΤΩΝ\\n• ΦΩΤΑ ΗΜΕΡΑΣ LED KAI ΠΙΣΩ ΦΩΤΑ LED'\\n• ΗΧΟΣΥΣΤΗΜΑ ΜΕ ΕΓΧΡΩΜΗ ΟΘΟΝΗ ΑΦΗΣ 8''\\n• ΚΑΜΕΡΑ ΟΠΙΣΘΟΠΟΡΙΑΣ\\n• ΔΥΝΑΤΟΤΗΤΑ ΣΥΝΔΕΣΗΣ ΜΕ APPLE CARPLAY KAI ANDROID AUTO\\n• ΑΥΤΟΜΑΤΟΣ ΔΙΖΩΝΙΚΟΣ ΚΛΙΜΑΤΙΣΜΟΣ\\n• ΑΥΤΟΜΑΤΗ ΛΕΙΤΟΥΡΓΙΑ ΠΡΟΒΟΛΕΩΝ\\n• ΠΙΣΩ ΦΙΜΕ ΚΡΥΣΤΑΛΛΑ\\n• ΣΥΣΤΗΜΑ ΕΞΥΠΝΗΣ ΕΚΚΙΝΗΣΗ (Start Button)\\n• ΥΠΟΛΟΓΙΣΤΗΣ ΤΑΞΙΔΙΟΥ ΜΕ ΟΘΟΝΗ LCD 4.2'\\n• ΣΥΣΤΗΜΑ ΑΝΑΓΝΩΡΙΣΗΣ ΣΗΜΑΤΩΝ ΚΥΚΛΟΦΟΡΙΑΣ\\n• ΑΙΣΘΗΤΗΡΑΣ ΒΡΟΧΗΣ\\n• ΣΥΣΤΗΜΑ ΕΛΕΝΧΟΥ ΕΥΣΤΑΘΕΙΑΣ \\n• ΣΥΣΤΗΜΑ ΑΠΟΦΥΓΗΣ ΠΡΟΣΚΡΟΥΣΗΣ    \\n• ΣΥΣΤΗΜΑ ΕΛΕΓΧΟΥ ΔΙΑΤΗΡΗΣΗΣ ΛΩΡΙΔΑΣ\\n • ΥΠΟΒΡΑΧΙΟΝΙΟ ΔΕΡΜΑΤΙΝΟ\\n• ISOFIX\\n• ΑΥΤΟΜΑΤΟΙ ΑΝΑΔΙΠΛΟΥΜΕΝΟΙ ΚΑΘΡΕΦΤΕΣ\\n• 6 ΑΕΡΟΣΑΚΟΙ    \\n• ΑΡΙΘΜΟΣ ΠΛΑΙΣΙΟΥ KNAB3512BKT48173\\n\\n✅ ΠΛΗΡEΣ ΑΡΧΕΙΟ SERVICE ΕΓΓΥΗΣΗ ΧΙΛΙΟΜΕΤΡΩΝ\\n✅ ΔΕΚΤΟΣ ΕΛΕΓΧΟΣ ΑΝΤΙΠΡΟΣΩΠΕΙΑΣ\\n✅ ΔΙΕΘΝΗΣ ΠΙΣΤΟΠΟΙΗΣΗ  STATUS REPORT  SGS - DEKRA\\n✅ ΓΡΑΠΤΗ ΕΓΓΥΗΣΗ ΑΤΡΑΚΑΡΙΣΤΟΥ\\n✅ ΒΙΟΛΟΓΙΚΟΣ ΚΑΘΑΡΙΣΜΟΣ\\n✅ ΔΥΝΑΤΟΤΗΤΑ  LEASING \\n✅ EYKOΛΙΕΣ ΠΛΗΡΩΜΗΣ ΕΩΣ 72 ΜΗΝΕΣ\\n✅ ΔΕΧΟΜΑΣΤΕ ΟΛΕΣ ΤΙΣ ΠΙΣΤΩΤΙΚΕΣ ΚΑΙ ΧΡΕΩΣΤΙΚΕΣ ΚΑΡΤΕΣ\\n✅ ΑΓΟΡΑΖΟΥΜΕ ΜΕΤΡΗΤΟΙΣ Η ΑΝΤΑΛΛΑΣΟΥΜΕ ΤΟ ΑΥΤΟΚΙΝΗΤΟ ΣΑΣ ΑΝΕΞΑΡΤΗΤΟΣ ΚΥΒΙΣΜΟΥ.\\n✅ ΠΡΟΕΞΟΦΛΟΥΜΕ ΤΟ ΔΑΝΕΙΟ ΤΟΥ ΑΥΤΟΚΙΝΗΤΟΥ ΣΑΣ!\\n✅ ΠΡΟΥΠΟΘΕΣΗ ΝΑ ΕΙΝΑΙ ΑΤΡΑΚΑΡΙΣΤΟ ΜΕ ΒΙΒΛΙΟ SERVICE ΚΑΙ ΜΟΝΤΕΛΟ ΜΕΤΑ ΤΟ 2011.\\n✅ ΚΑΘΗΜΕΡΙΝΑ 9:00 -20:30 ΣΑΒΒΑΤΟ 9:30-15:00\\n✅ PARKING ΠΕΛΑΤΩΝ\\n✅ ΠΑΙΔΟΤΟΠΟΣ ΓΙΑ ΤΟΥΣ ΜΙΚΡΟΥΣ ΜΑΣ ΦΙΛΟΥΣ\\n✅ ΠΡΟΣΒΑΣΗ ΔΙΑ ΜΕΣΟΥ ΑΤΤΙΚΗΣ ΟΔΟΥ & ΠΡΟΑΣΤΙΑΚΟΥ ΣΤΑΣΗ ΛΕΩΦ. ΠΕΝΤΕΛΗΣ\\n✅ ΤΗΛΕΦΩΝΟ : 210-6890900............✅ https://alivizatos-cars.gr   \n",
       "7                                                                                                                                                                                                                                                                                                                                                                                                                                                                                                                                                                                                                                                                                                                                                                                                                                                                                                                                                                                                                                                                                                                                                                                                                                                                                                                                                                                                                                                                                                                                                                                                                                                                                                                                Η ΠΡΟΣΦΟΡΑ ΙΣΧΥΕΙ ΜΕΧΡΙ 28/2 ΚΑΙ ΓΙΑ ΠΕΡΙΟΡΙΣΜΕΝΟ ΑΡΙΘΜΟ ΑΥΤΟΚΙΝΗΤΩΝ\\nΔΥΝΑΤΟΤΗΤΑ TEST DRIVE\\n3 ΧΡΟΝΙΑ ΕΓΓΥΗΣΗ & ΟΔΙΚΗ ΒΟΗΘΕΙΑ ΜΕ ΔΥΝΑΤΟΤΗΤΑ ΕΠΕΚΤΑΣΗΣ   \n",
       "8                                                                                                                                                                                                                                                                                                                                                                                                                                                                                                                                                                                                                                                                                                                                                                                                                                                                                                                                                                                                                                                                                                                                                                                                                                                                                                                                                                                                                                                                                                                                                                                                                                                                                                                                                                                                               Πωλείται ολόκληρο   ΜΟΝΟ ΓΙΑ ΑΝΤΑΛΛΑΚΤΙΚΑ, είναι σε ακινησία 8 χρόνια.   \n",
       "9                                                                                                                                                                                                                                                                                                                                                                                                                                                                                                                                                                                                                                                                                                                                                                                                                                                                                                                                                                                                                                                                                                                                                                                                                                                                                                                                                                                                                                                                                                                                                                                                                                                                                                                                Ηλεκτρικά παράθυραΖάντες αλουμινίου Συναγερμός\\nΗλεκτρομαγνητικές κλειδαριές Αλλαγμένη ολόκληρη η εξάτμιση Ανεμοθραυστες Δερμάτινο τιμόνι Immobilizer   \n",
       "\n",
       "  antique cheques_accepted  turbo steering_lights collision_avoidance_system trip_computer wheelchair apple_carplay credit_card_accepted extra:827 leather_seats anti_theft_system_gps rain_sensor panoramic_roof    dvd automatic_parking warranty_extension from_organization_of_public_materials_management multi_purpose_steering_wheel tcs_asr tv_camera seats_7+ power_windows bucket_seats  hitch aircondition(a_c) heated_seats power_seats alumium_rims locking_differential android_auto accept_exchange_with_car hardtop right_hand_drive_car roof_rails armored lane_assist imported left_sliding_door agricultural never_crashed immobilizer notes_accepted rear_view_camera air_suspension bluetooth leasing price_without_vat parktronic withdrawal_right isofix_children_seats electric_sunroof   abs telephone led_lights    gps greek_dealership automatic_air_conditioning central_locking hill_assist tft_screen cd_player warranty head_up_display service_book power_mirrors eco_start_stop  alarm  \\\n",
       "0   False            False  False           False                      False         False      False         False                False     False         False                 False       False          False  False             False              False                                            False                        False   False     False    False         False        False  False             False        False       False        False                False        False                    False   False                False      False   False       False    False             False        False         False        True          False            False          False      True   False             False      False            False                 False            False  True     False      False  False            False                      False           False       False      False      True    False           False        False         False          False  False   \n",
       "1   False            False  False           False                       True          True      False          True                 True     False         False                 False        True          False  False             False              False                                            False                         True    True     False    False          True         True  False              True        False       False         True                False         True                     True   False                False      False   False        True    False             False        False          True        True          False             True          False      True   False             False       True             True                  True            False  True     False       True   True             True                       True            True        True       True      True     True           False         True          True           True  False   \n",
       "2   False            False   True           False                      False          True      False         False                False     False         False                 False       False          False  False             False              False                                            False                        False   False     False    False          True         True  False             False        False       False         True                False        False                    False   False                False      False   False       False    False             False        False          True        True          False            False          False      True   False             False       True             True                  True            False  True     False       True  False             True                       True            True       False      False      True    False           False         True          True          False  False   \n",
       "3    None             None   None            None                       None          None       None          None                 None      None          None                  None        None           None   None              None               None                                             None                         None    None      None     None          None         None   None              None         None        None         None                 None         None                     None    None                 None       None    None        None     None              None         None          None        None           None             None           None      None    None              None       None             None                  None             None  None      None       None   None             None                       None            None        None       None      None     None            None         None          None           None   None   \n",
       "4    None             None   None            None                       None          None       None          None                 None      None          None                  None        None           None   None              None               None                                             None                         None    None      None     None          None         None   None              None         None        None         None                 None         None                     None    None                 None       None    None        None     None              None         None          None        None           None             None           None      None    None              None       None             None                  None             None  None      None       None   None             None                       None            None        None       None      None     None            None         None          None           None   None   \n",
       "5    None             None   None            None                       None          None       None          None                 None      None          None                  None        None           None   None              None               None                                             None                         None    None      None     None          None         None   None              None         None        None         None                 None         None                     None    None                 None       None    None        None     None              None         None          None        None           None             None           None      None    None              None       None             None                  None             None  None      None       None   None             None                       None            None        None       None      None     None            None         None          None           None   None   \n",
       "6   False            False  False           False                       True          True      False         False                False     False          True                 False       False          False  False             False              False                                            False                         True   False      True    False          True         True  False             False        False       False         True                False         True                     True   False                False      False   False        True    False             False        False          True        True          False            False          False      True   False             False       True            False                  True            False  True     False       True  False             True                       True            True       False       True     False     True           False         True          True           True  False   \n",
       "7   False            False   True           False                       True          True      False          True                False     False          True                 False        True           True  False              True              False                                            False                         True    True     False     True          True         True  False              True         True        True         True                False         True                     True   False                False       True   False        True    False             False        False          True        True          False             True          False      True   False             False       True            False                  True             True  True      True       True   True             True                       True            True        True       True     False     True            True         True          True           True   True   \n",
       "8    None             None   None            None                       None          None       None          None                 None      None          None                  None        None           None   None              None               None                                             None                         None    None      None     None          None         None   None              None         None        None         None                 None         None                     None    None                 None       None    None        None     None              None         None          None        None           None             None           None      None    None              None       None             None                  None             None  None      None       None   None             None                       None            None        None       None      None     None            None         None          None           None   None   \n",
       "9    None             None   None            None                       None          None       None          None                 None      None          None                  None        None           None   None              None               None                                             None                         None    None      None     None          None         None   None              None         None        None         None                 None         None                     None    None                 None       None    None        None     None              None         None          None        None           None             None           None      None    None              None       None             None                  None             None  None      None       None   None             None                       None            None        None       None      None     None            None         None          None           None   None   \n",
       "\n",
       "  taxfree_foreign_numbers  xenon fog_lights nonsmoker power_steering sliding_doors_x2 radio_player    acc    usb cruise_control keyless price_for_large_families exchange_with_bike extra:826 right_sliding_door exchange_boat_accepted   esp interior_type battery_range seats     kteo     exterior_color number_plate_ending emissions_co2 battery_charge_time interior_color   rim_size  vehicle_height  number_of_gears  torque  gross_weight  acceleration  vehicle_width  body_type  vehicle_length  top_speed               trim  wheelbase fuel_consumption           drive_type doors  \n",
       "0                   False  False      False     False          False            False        False  False  False          False   False                    False              False     False              False                  False  True          None          None     5     None   Γκρι (Μεταλλικό)                Μονή          None                None          Μαύρο       None             NaN              NaN     NaN           NaN           NaN            NaN       None             NaN        NaN               None        NaN             None  Προσθιοκίνητο (FWD)     5  \n",
       "1                   False  False      False      True           True            False        False   True   True           True    True                    False               True     False              False                  False  True        Ύφασμα          None     5     None  Μαύρο (Μεταλλικό)                Μονή      110 g/km                None           Γκρι  17 ίντσες             NaN              NaN     NaN           NaN           NaN            NaN       None             NaN        NaN               None        NaN             3,80  Προσθιοκίνητο (FWD)     5  \n",
       "2                   False  False      False     False           True            False        False  False  False           True    True                    False              False     False              False                  False  True        Ύφασμα          None     5     None  Άσπρο (Μεταλλικό)                Μονή          None                None           Γκρι  15 ίντσες             NaN              NaN     NaN           NaN           NaN            NaN       None             NaN        NaN               None        NaN             None                 None     3  \n",
       "3                    None   None       None      None           None             None         None   None   None           None    None                     None               None      None               None                   None  None          None          None     5     None              Ασημί                Μονή          None                None           Μπεζ       None          1728.0              6.0   400.0        2080.0           8.9         1426.0      sedan          4526.0      230.0        CDI Classic     2715.0              6.8                  RWD   5.0  \n",
       "4                    None   None       None      None           None             None         None   None   None           None    None                     None               None      None               None                   None  None          None          None     5   4/2026  Μαύρο (Μεταλλικό)                Ζυγή          None                None           None  17 ίντσες             NaN              NaN     NaN           NaN           NaN            NaN       None             NaN        NaN               None        NaN             7,50  Προσθιοκίνητο (FWD)     2  \n",
       "5                    None   None       None      None           None             None         None   None   None           None    None                     None               None      None               None                   None  None        Ύφασμα          None     5   9/2026              Άσπρο                Μονή          None                None          Μαύρο  16 ίντσες          1798.0              6.0   160.0        1603.0          12.2         1440.0  hatchback          4050.0      180.0  TCe 90 Experience     2583.0              4.9                  FWD   5.0  \n",
       "6                   False  False       True     False           True            False        False  False   True           True   False                    False              False     False              False                  False  True         Δέρμα          None     5  10/2025  Μαύρο (Μεταλλικό)                Μονή      124 g/km                None           Γκρι  16 ίντσες          1595.0              5.0   122.0        1400.0          12.0         1485.0  hatchback          3595.0      173.0      1.2 Edition 7     2400.0              5.0                  FWD   5.0  \n",
       "7                   False  False       True      True           True            False        False   True   True           True    True                    False              False     False              False                  False  True         Δέρμα          None     7     None            Χρυσαφί             Άγνωστη      149 g/km                None           None  19 ίντσες             NaN              NaN     NaN           NaN           NaN            NaN       None             NaN        NaN               None        NaN             None    Τετρακίνητο (4x4)     5  \n",
       "8                    None   None       None      None           None             None         None   None   None           None    None                     None               None      None               None                   None  None         Δέρμα          None     2     None              Ασημί               Χωρίς          None                None        Δίχρωμο       None             NaN              NaN     NaN           NaN           NaN            NaN       None             NaN        NaN               None        NaN             None                 None     2  \n",
       "9                    None   None       None      None           None             None         None   None   None           None    None                     None               None      None               None                   None  None        Ύφασμα          None     4   4/2026  Μαύρο (Μεταλλικό)             Άγνωστη          None                None          Μαύρο  14 ίντσες             NaN              NaN     NaN           NaN           NaN            NaN       None             NaN        NaN               None        NaN             None  Προσθιοκίνητο (FWD)     3  "
      ],
      "text/html": [
       "<div>\n",
       "<style scoped>\n",
       "    .dataframe tbody tr th:only-of-type {\n",
       "        vertical-align: middle;\n",
       "    }\n",
       "\n",
       "    .dataframe tbody tr th {\n",
       "        vertical-align: top;\n",
       "    }\n",
       "\n",
       "    .dataframe thead th {\n",
       "        text-align: right;\n",
       "    }\n",
       "</style>\n",
       "<table border=\"1\" class=\"dataframe\">\n",
       "  <thead>\n",
       "    <tr style=\"text-align: right;\">\n",
       "      <th></th>\n",
       "      <th>id</th>\n",
       "      <th>description</th>\n",
       "      <th>antique</th>\n",
       "      <th>cheques_accepted</th>\n",
       "      <th>turbo</th>\n",
       "      <th>steering_lights</th>\n",
       "      <th>collision_avoidance_system</th>\n",
       "      <th>trip_computer</th>\n",
       "      <th>wheelchair</th>\n",
       "      <th>apple_carplay</th>\n",
       "      <th>credit_card_accepted</th>\n",
       "      <th>extra:827</th>\n",
       "      <th>leather_seats</th>\n",
       "      <th>anti_theft_system_gps</th>\n",
       "      <th>rain_sensor</th>\n",
       "      <th>panoramic_roof</th>\n",
       "      <th>dvd</th>\n",
       "      <th>automatic_parking</th>\n",
       "      <th>warranty_extension</th>\n",
       "      <th>from_organization_of_public_materials_management</th>\n",
       "      <th>multi_purpose_steering_wheel</th>\n",
       "      <th>tcs_asr</th>\n",
       "      <th>tv_camera</th>\n",
       "      <th>seats_7+</th>\n",
       "      <th>power_windows</th>\n",
       "      <th>bucket_seats</th>\n",
       "      <th>hitch</th>\n",
       "      <th>aircondition(a_c)</th>\n",
       "      <th>heated_seats</th>\n",
       "      <th>power_seats</th>\n",
       "      <th>alumium_rims</th>\n",
       "      <th>locking_differential</th>\n",
       "      <th>android_auto</th>\n",
       "      <th>accept_exchange_with_car</th>\n",
       "      <th>hardtop</th>\n",
       "      <th>right_hand_drive_car</th>\n",
       "      <th>roof_rails</th>\n",
       "      <th>armored</th>\n",
       "      <th>lane_assist</th>\n",
       "      <th>imported</th>\n",
       "      <th>left_sliding_door</th>\n",
       "      <th>agricultural</th>\n",
       "      <th>never_crashed</th>\n",
       "      <th>immobilizer</th>\n",
       "      <th>notes_accepted</th>\n",
       "      <th>rear_view_camera</th>\n",
       "      <th>air_suspension</th>\n",
       "      <th>bluetooth</th>\n",
       "      <th>leasing</th>\n",
       "      <th>price_without_vat</th>\n",
       "      <th>parktronic</th>\n",
       "      <th>withdrawal_right</th>\n",
       "      <th>isofix_children_seats</th>\n",
       "      <th>electric_sunroof</th>\n",
       "      <th>abs</th>\n",
       "      <th>telephone</th>\n",
       "      <th>led_lights</th>\n",
       "      <th>gps</th>\n",
       "      <th>greek_dealership</th>\n",
       "      <th>automatic_air_conditioning</th>\n",
       "      <th>central_locking</th>\n",
       "      <th>hill_assist</th>\n",
       "      <th>tft_screen</th>\n",
       "      <th>cd_player</th>\n",
       "      <th>warranty</th>\n",
       "      <th>head_up_display</th>\n",
       "      <th>service_book</th>\n",
       "      <th>power_mirrors</th>\n",
       "      <th>eco_start_stop</th>\n",
       "      <th>alarm</th>\n",
       "      <th>taxfree_foreign_numbers</th>\n",
       "      <th>xenon</th>\n",
       "      <th>fog_lights</th>\n",
       "      <th>nonsmoker</th>\n",
       "      <th>power_steering</th>\n",
       "      <th>sliding_doors_x2</th>\n",
       "      <th>radio_player</th>\n",
       "      <th>acc</th>\n",
       "      <th>usb</th>\n",
       "      <th>cruise_control</th>\n",
       "      <th>keyless</th>\n",
       "      <th>price_for_large_families</th>\n",
       "      <th>exchange_with_bike</th>\n",
       "      <th>extra:826</th>\n",
       "      <th>right_sliding_door</th>\n",
       "      <th>exchange_boat_accepted</th>\n",
       "      <th>esp</th>\n",
       "      <th>interior_type</th>\n",
       "      <th>battery_range</th>\n",
       "      <th>seats</th>\n",
       "      <th>kteo</th>\n",
       "      <th>exterior_color</th>\n",
       "      <th>number_plate_ending</th>\n",
       "      <th>emissions_co2</th>\n",
       "      <th>battery_charge_time</th>\n",
       "      <th>interior_color</th>\n",
       "      <th>rim_size</th>\n",
       "      <th>vehicle_height</th>\n",
       "      <th>number_of_gears</th>\n",
       "      <th>torque</th>\n",
       "      <th>gross_weight</th>\n",
       "      <th>acceleration</th>\n",
       "      <th>vehicle_width</th>\n",
       "      <th>body_type</th>\n",
       "      <th>vehicle_length</th>\n",
       "      <th>top_speed</th>\n",
       "      <th>trim</th>\n",
       "      <th>wheelbase</th>\n",
       "      <th>fuel_consumption</th>\n",
       "      <th>drive_type</th>\n",
       "      <th>doors</th>\n",
       "    </tr>\n",
       "  </thead>\n",
       "  <tbody>\n",
       "    <tr>\n",
       "      <th>0</th>\n",
       "      <td>41737621</td>\n",
       "      <td>Το αυτοκίνητο είναι σε υπέρ άριστη κατάσταση \\nΌταν το πήρα για προληπτικούς λόγους και μόνο άλλαξα ολόκληρο σετ συμπλέκτη και φρένα \\nΆριστο σε όλα του \\n\\n\\nΠαρακαλώ όχι άσκοπα τηλεφωνήματα</td>\n",
       "      <td>False</td>\n",
       "      <td>False</td>\n",
       "      <td>False</td>\n",
       "      <td>False</td>\n",
       "      <td>False</td>\n",
       "      <td>False</td>\n",
       "      <td>False</td>\n",
       "      <td>False</td>\n",
       "      <td>False</td>\n",
       "      <td>False</td>\n",
       "      <td>False</td>\n",
       "      <td>False</td>\n",
       "      <td>False</td>\n",
       "      <td>False</td>\n",
       "      <td>False</td>\n",
       "      <td>False</td>\n",
       "      <td>False</td>\n",
       "      <td>False</td>\n",
       "      <td>False</td>\n",
       "      <td>False</td>\n",
       "      <td>False</td>\n",
       "      <td>False</td>\n",
       "      <td>False</td>\n",
       "      <td>False</td>\n",
       "      <td>False</td>\n",
       "      <td>False</td>\n",
       "      <td>False</td>\n",
       "      <td>False</td>\n",
       "      <td>False</td>\n",
       "      <td>False</td>\n",
       "      <td>False</td>\n",
       "      <td>False</td>\n",
       "      <td>False</td>\n",
       "      <td>False</td>\n",
       "      <td>False</td>\n",
       "      <td>False</td>\n",
       "      <td>False</td>\n",
       "      <td>False</td>\n",
       "      <td>False</td>\n",
       "      <td>False</td>\n",
       "      <td>False</td>\n",
       "      <td>True</td>\n",
       "      <td>False</td>\n",
       "      <td>False</td>\n",
       "      <td>False</td>\n",
       "      <td>True</td>\n",
       "      <td>False</td>\n",
       "      <td>False</td>\n",
       "      <td>False</td>\n",
       "      <td>False</td>\n",
       "      <td>False</td>\n",
       "      <td>False</td>\n",
       "      <td>True</td>\n",
       "      <td>False</td>\n",
       "      <td>False</td>\n",
       "      <td>False</td>\n",
       "      <td>False</td>\n",
       "      <td>False</td>\n",
       "      <td>False</td>\n",
       "      <td>False</td>\n",
       "      <td>False</td>\n",
       "      <td>True</td>\n",
       "      <td>False</td>\n",
       "      <td>False</td>\n",
       "      <td>False</td>\n",
       "      <td>False</td>\n",
       "      <td>False</td>\n",
       "      <td>False</td>\n",
       "      <td>False</td>\n",
       "      <td>False</td>\n",
       "      <td>False</td>\n",
       "      <td>False</td>\n",
       "      <td>False</td>\n",
       "      <td>False</td>\n",
       "      <td>False</td>\n",
       "      <td>False</td>\n",
       "      <td>False</td>\n",
       "      <td>False</td>\n",
       "      <td>False</td>\n",
       "      <td>False</td>\n",
       "      <td>False</td>\n",
       "      <td>False</td>\n",
       "      <td>False</td>\n",
       "      <td>False</td>\n",
       "      <td>True</td>\n",
       "      <td>None</td>\n",
       "      <td>None</td>\n",
       "      <td>5</td>\n",
       "      <td>None</td>\n",
       "      <td>Γκρι (Μεταλλικό)</td>\n",
       "      <td>Μονή</td>\n",
       "      <td>None</td>\n",
       "      <td>None</td>\n",
       "      <td>Μαύρο</td>\n",
       "      <td>None</td>\n",
       "      <td>NaN</td>\n",
       "      <td>NaN</td>\n",
       "      <td>NaN</td>\n",
       "      <td>NaN</td>\n",
       "      <td>NaN</td>\n",
       "      <td>NaN</td>\n",
       "      <td>None</td>\n",
       "      <td>NaN</td>\n",
       "      <td>NaN</td>\n",
       "      <td>None</td>\n",
       "      <td>NaN</td>\n",
       "      <td>None</td>\n",
       "      <td>Προσθιοκίνητο (FWD)</td>\n",
       "      <td>5</td>\n",
       "    </tr>\n",
       "    <tr>\n",
       "      <th>1</th>\n",
       "      <td>43324109</td>\n",
       "      <td>• ΣΕ ΕΞΑΙΡΕΤΙΚΗ ΚΑΤΑΣΤΑΣΗ\\n• BOOK SERVICE ΑΝΤΙΠΡΟΣΩΠΕΙΑΣ\\n• ΕΝΤΟΣ ΕΡΓΟΣΤΑΣΙΑΚΗΣ ΕΓΓΥΗΣΗΣ\\n• 1 ΧΕΡΙ, ΕΛΛΗΝΙΚO\\n\\n♠ 1.8 HSD E-CVT Business 122bhp ♠\\n\\n• ΔΕΡΜΑΤΙΝΟ ΤΙΜΟΝΙ ΜΕ ΧΕΙΡΙΣΤΗΡΙΑ\\n• ΔΕΡΜΑΤΙΝΟ ΥΠΟΒΡΑΧΙΟΝΙΟ (Arm rest)\\n• ΠΡΟΒΛΕΨΗ ΠΑΙΔΙΚΩΝ ΚΑΘΙΣΜΑΤΩΝ (Isofix)\\n• ΥΠΟΛΟΓΙΣΤΗ ΤΑΞΙΔΙΟΥ (Trip computer)\\n• ΨΗΦΙΑΚΗ ΟΘΟΝΗ ΠΟΛΛΑΠΛΩΝ ΕΝΔΕΙΞΕΩΝ\\n• ΕΡΓΟΣΤΑΣΙΑΚΗ ΠΛΟΗΓΗΣΗ (Navigation)\\n• ΚΑΜΕΡΑ ΟΠΙΣΘΟΠΟΡΕΙΑΣ (Reverse camera)\\n• ΣΥΝΔΕΣΙΜΟΤΗΤΑ (Bluetooth/Usb/Aux)\\n• ΨΗΦΙΑΚΟ ΚΛΙΜΑΤΙΣΜΟ (clima)\\n• ΠΡΟΓΡΑΜΜΑ ΟΔΗΓΗΣΗΣ (Ev Mode)\\n• ΑΥΤΟΜΑΤΟ ΠΙΛΟΤΟ (Cruise control)\\n• ΑΙΣΘΗΤΗΡΑ ΦΩΤΩΝ (Light sensor)\\n• ΑΙΣΘΗΤΗΡΑ ΒΡΟΧΗΣ (Rain sensor)\\n• ΑΣΥΡΜΑΤΗ ΕΚΚΙΝΗΣΗ ΚΙΝΗΤΗΡΑ (Keyless GO)\\n• ΣΥΣΤΗΜΑ ΑΝΤΙΜΠΛΟΚΑΡΙΣΜΑΤΟΣ ΤΡΟΧΩΝ (ABS)\\n• ΗΛΕΚΤΡΟΝΙΚΟΣ ΕΛΕΓΧΟΣ ΕΥΣΤΑΘΕΙΑΣ (ESP)\\n• ΖΑΝΤΕΣ ΑΛΟΥΜΙΝΙΟΥ 17\"\\n• ΦΩΤΑ ΗΜΕΡΑΣ (Led)\\n\\n- 1Η ΚΥΚΛΟΦΟΡΙΑ .10/10/2019\\n• ΜΗΔΕΝΙΚΑ ΤΕΛΗ ΚΥΚΛΟΦΟΡΙΑΣ\\n• VIN : NMTKZ3BX90R338616</td>\n",
       "      <td>False</td>\n",
       "      <td>False</td>\n",
       "      <td>False</td>\n",
       "      <td>False</td>\n",
       "      <td>True</td>\n",
       "      <td>True</td>\n",
       "      <td>False</td>\n",
       "      <td>True</td>\n",
       "      <td>True</td>\n",
       "      <td>False</td>\n",
       "      <td>False</td>\n",
       "      <td>False</td>\n",
       "      <td>True</td>\n",
       "      <td>False</td>\n",
       "      <td>False</td>\n",
       "      <td>False</td>\n",
       "      <td>False</td>\n",
       "      <td>False</td>\n",
       "      <td>True</td>\n",
       "      <td>True</td>\n",
       "      <td>False</td>\n",
       "      <td>False</td>\n",
       "      <td>True</td>\n",
       "      <td>True</td>\n",
       "      <td>False</td>\n",
       "      <td>True</td>\n",
       "      <td>False</td>\n",
       "      <td>False</td>\n",
       "      <td>True</td>\n",
       "      <td>False</td>\n",
       "      <td>True</td>\n",
       "      <td>True</td>\n",
       "      <td>False</td>\n",
       "      <td>False</td>\n",
       "      <td>False</td>\n",
       "      <td>False</td>\n",
       "      <td>True</td>\n",
       "      <td>False</td>\n",
       "      <td>False</td>\n",
       "      <td>False</td>\n",
       "      <td>True</td>\n",
       "      <td>True</td>\n",
       "      <td>False</td>\n",
       "      <td>True</td>\n",
       "      <td>False</td>\n",
       "      <td>True</td>\n",
       "      <td>False</td>\n",
       "      <td>False</td>\n",
       "      <td>True</td>\n",
       "      <td>True</td>\n",
       "      <td>True</td>\n",
       "      <td>False</td>\n",
       "      <td>True</td>\n",
       "      <td>False</td>\n",
       "      <td>True</td>\n",
       "      <td>True</td>\n",
       "      <td>True</td>\n",
       "      <td>True</td>\n",
       "      <td>True</td>\n",
       "      <td>True</td>\n",
       "      <td>True</td>\n",
       "      <td>True</td>\n",
       "      <td>True</td>\n",
       "      <td>False</td>\n",
       "      <td>True</td>\n",
       "      <td>True</td>\n",
       "      <td>True</td>\n",
       "      <td>False</td>\n",
       "      <td>False</td>\n",
       "      <td>False</td>\n",
       "      <td>False</td>\n",
       "      <td>True</td>\n",
       "      <td>True</td>\n",
       "      <td>False</td>\n",
       "      <td>False</td>\n",
       "      <td>True</td>\n",
       "      <td>True</td>\n",
       "      <td>True</td>\n",
       "      <td>True</td>\n",
       "      <td>False</td>\n",
       "      <td>True</td>\n",
       "      <td>False</td>\n",
       "      <td>False</td>\n",
       "      <td>False</td>\n",
       "      <td>True</td>\n",
       "      <td>Ύφασμα</td>\n",
       "      <td>None</td>\n",
       "      <td>5</td>\n",
       "      <td>None</td>\n",
       "      <td>Μαύρο (Μεταλλικό)</td>\n",
       "      <td>Μονή</td>\n",
       "      <td>110 g/km</td>\n",
       "      <td>None</td>\n",
       "      <td>Γκρι</td>\n",
       "      <td>17 ίντσες</td>\n",
       "      <td>NaN</td>\n",
       "      <td>NaN</td>\n",
       "      <td>NaN</td>\n",
       "      <td>NaN</td>\n",
       "      <td>NaN</td>\n",
       "      <td>NaN</td>\n",
       "      <td>None</td>\n",
       "      <td>NaN</td>\n",
       "      <td>NaN</td>\n",
       "      <td>None</td>\n",
       "      <td>NaN</td>\n",
       "      <td>3,80</td>\n",
       "      <td>Προσθιοκίνητο (FWD)</td>\n",
       "      <td>5</td>\n",
       "    </tr>\n",
       "    <tr>\n",
       "      <th>2</th>\n",
       "      <td>43930480</td>\n",
       "      <td>None</td>\n",
       "      <td>False</td>\n",
       "      <td>False</td>\n",
       "      <td>True</td>\n",
       "      <td>False</td>\n",
       "      <td>False</td>\n",
       "      <td>True</td>\n",
       "      <td>False</td>\n",
       "      <td>False</td>\n",
       "      <td>False</td>\n",
       "      <td>False</td>\n",
       "      <td>False</td>\n",
       "      <td>False</td>\n",
       "      <td>False</td>\n",
       "      <td>False</td>\n",
       "      <td>False</td>\n",
       "      <td>False</td>\n",
       "      <td>False</td>\n",
       "      <td>False</td>\n",
       "      <td>False</td>\n",
       "      <td>False</td>\n",
       "      <td>False</td>\n",
       "      <td>False</td>\n",
       "      <td>True</td>\n",
       "      <td>True</td>\n",
       "      <td>False</td>\n",
       "      <td>False</td>\n",
       "      <td>False</td>\n",
       "      <td>False</td>\n",
       "      <td>True</td>\n",
       "      <td>False</td>\n",
       "      <td>False</td>\n",
       "      <td>False</td>\n",
       "      <td>False</td>\n",
       "      <td>False</td>\n",
       "      <td>False</td>\n",
       "      <td>False</td>\n",
       "      <td>False</td>\n",
       "      <td>False</td>\n",
       "      <td>False</td>\n",
       "      <td>False</td>\n",
       "      <td>True</td>\n",
       "      <td>True</td>\n",
       "      <td>False</td>\n",
       "      <td>False</td>\n",
       "      <td>False</td>\n",
       "      <td>True</td>\n",
       "      <td>False</td>\n",
       "      <td>False</td>\n",
       "      <td>True</td>\n",
       "      <td>True</td>\n",
       "      <td>True</td>\n",
       "      <td>False</td>\n",
       "      <td>True</td>\n",
       "      <td>False</td>\n",
       "      <td>True</td>\n",
       "      <td>False</td>\n",
       "      <td>True</td>\n",
       "      <td>True</td>\n",
       "      <td>True</td>\n",
       "      <td>False</td>\n",
       "      <td>False</td>\n",
       "      <td>True</td>\n",
       "      <td>False</td>\n",
       "      <td>False</td>\n",
       "      <td>True</td>\n",
       "      <td>True</td>\n",
       "      <td>False</td>\n",
       "      <td>False</td>\n",
       "      <td>False</td>\n",
       "      <td>False</td>\n",
       "      <td>False</td>\n",
       "      <td>False</td>\n",
       "      <td>True</td>\n",
       "      <td>False</td>\n",
       "      <td>False</td>\n",
       "      <td>False</td>\n",
       "      <td>False</td>\n",
       "      <td>True</td>\n",
       "      <td>True</td>\n",
       "      <td>False</td>\n",
       "      <td>False</td>\n",
       "      <td>False</td>\n",
       "      <td>False</td>\n",
       "      <td>False</td>\n",
       "      <td>True</td>\n",
       "      <td>Ύφασμα</td>\n",
       "      <td>None</td>\n",
       "      <td>5</td>\n",
       "      <td>None</td>\n",
       "      <td>Άσπρο (Μεταλλικό)</td>\n",
       "      <td>Μονή</td>\n",
       "      <td>None</td>\n",
       "      <td>None</td>\n",
       "      <td>Γκρι</td>\n",
       "      <td>15 ίντσες</td>\n",
       "      <td>NaN</td>\n",
       "      <td>NaN</td>\n",
       "      <td>NaN</td>\n",
       "      <td>NaN</td>\n",
       "      <td>NaN</td>\n",
       "      <td>NaN</td>\n",
       "      <td>None</td>\n",
       "      <td>NaN</td>\n",
       "      <td>NaN</td>\n",
       "      <td>None</td>\n",
       "      <td>NaN</td>\n",
       "      <td>None</td>\n",
       "      <td>None</td>\n",
       "      <td>3</td>\n",
       "    </tr>\n",
       "    <tr>\n",
       "      <th>3</th>\n",
       "      <td>42960446</td>\n",
       "      <td>Σε τέλεια κατάσταση αψεγάδιαστο. Πολύ προσεγμένο.</td>\n",
       "      <td>None</td>\n",
       "      <td>None</td>\n",
       "      <td>None</td>\n",
       "      <td>None</td>\n",
       "      <td>None</td>\n",
       "      <td>None</td>\n",
       "      <td>None</td>\n",
       "      <td>None</td>\n",
       "      <td>None</td>\n",
       "      <td>None</td>\n",
       "      <td>None</td>\n",
       "      <td>None</td>\n",
       "      <td>None</td>\n",
       "      <td>None</td>\n",
       "      <td>None</td>\n",
       "      <td>None</td>\n",
       "      <td>None</td>\n",
       "      <td>None</td>\n",
       "      <td>None</td>\n",
       "      <td>None</td>\n",
       "      <td>None</td>\n",
       "      <td>None</td>\n",
       "      <td>None</td>\n",
       "      <td>None</td>\n",
       "      <td>None</td>\n",
       "      <td>None</td>\n",
       "      <td>None</td>\n",
       "      <td>None</td>\n",
       "      <td>None</td>\n",
       "      <td>None</td>\n",
       "      <td>None</td>\n",
       "      <td>None</td>\n",
       "      <td>None</td>\n",
       "      <td>None</td>\n",
       "      <td>None</td>\n",
       "      <td>None</td>\n",
       "      <td>None</td>\n",
       "      <td>None</td>\n",
       "      <td>None</td>\n",
       "      <td>None</td>\n",
       "      <td>None</td>\n",
       "      <td>None</td>\n",
       "      <td>None</td>\n",
       "      <td>None</td>\n",
       "      <td>None</td>\n",
       "      <td>None</td>\n",
       "      <td>None</td>\n",
       "      <td>None</td>\n",
       "      <td>None</td>\n",
       "      <td>None</td>\n",
       "      <td>None</td>\n",
       "      <td>None</td>\n",
       "      <td>None</td>\n",
       "      <td>None</td>\n",
       "      <td>None</td>\n",
       "      <td>None</td>\n",
       "      <td>None</td>\n",
       "      <td>None</td>\n",
       "      <td>None</td>\n",
       "      <td>None</td>\n",
       "      <td>None</td>\n",
       "      <td>None</td>\n",
       "      <td>None</td>\n",
       "      <td>None</td>\n",
       "      <td>None</td>\n",
       "      <td>None</td>\n",
       "      <td>None</td>\n",
       "      <td>None</td>\n",
       "      <td>None</td>\n",
       "      <td>None</td>\n",
       "      <td>None</td>\n",
       "      <td>None</td>\n",
       "      <td>None</td>\n",
       "      <td>None</td>\n",
       "      <td>None</td>\n",
       "      <td>None</td>\n",
       "      <td>None</td>\n",
       "      <td>None</td>\n",
       "      <td>None</td>\n",
       "      <td>None</td>\n",
       "      <td>None</td>\n",
       "      <td>None</td>\n",
       "      <td>None</td>\n",
       "      <td>None</td>\n",
       "      <td>None</td>\n",
       "      <td>None</td>\n",
       "      <td>None</td>\n",
       "      <td>5</td>\n",
       "      <td>None</td>\n",
       "      <td>Ασημί</td>\n",
       "      <td>Μονή</td>\n",
       "      <td>None</td>\n",
       "      <td>None</td>\n",
       "      <td>Μπεζ</td>\n",
       "      <td>None</td>\n",
       "      <td>1728.0</td>\n",
       "      <td>6.0</td>\n",
       "      <td>400.0</td>\n",
       "      <td>2080.0</td>\n",
       "      <td>8.9</td>\n",
       "      <td>1426.0</td>\n",
       "      <td>sedan</td>\n",
       "      <td>4526.0</td>\n",
       "      <td>230.0</td>\n",
       "      <td>CDI Classic</td>\n",
       "      <td>2715.0</td>\n",
       "      <td>6.8</td>\n",
       "      <td>RWD</td>\n",
       "      <td>5.0</td>\n",
       "    </tr>\n",
       "    <tr>\n",
       "      <th>4</th>\n",
       "      <td>343814526</td>\n",
       "      <td>Πληρωμένα ΤΕΛΗ του 2025!!\\nΤο αυτοκίνητο είναι άψογο μηχανικά έχει βιβλίο σερβις αλλαγή λαδιών κάθε 5000 χλμτρ (δεν καίει σταγόνα λάδι) έχει αλλαχτεί πρόσφατα σετ καδένας έχει λάστιχα ενός χρόνου έχει τοποθετηθεί ολόσωμη εξατμιση r32 με downpipe χωρίς καταλυτες και εισαγωγή με φίλτρο χοάνη έχουν αλλαχτεί επισης οι πολλαπλασιαστής ο δυναμος και τα μπουζια . Πρόσφατα επισης αγοραστικέ body kit r32 πίσω προφυλακτήρα και μασπιε από gti όπως και ζάντες από gti . Εσωτερικά έχουν αλλαχτεί τα φώτα και έχουν γίνει όλα led όπως έχει αλλαχτεί και ο ουρανός και οι πόρτες έχουν επενδυθεί με alcadara. Επιπλεον έχει τοποθετηθεί οθονη multimedia.Το αυτοκίνητο το δίνω λόγω αγοράς αλλου είναι οικονομικό για αυτό που είναι όποτε είναι ιδανικό για καθημερινό. Η τιμή είναι συζητήσιμη σε λογικά πλαίσια παρακαλώ μόνο σοβαρές προτάσεις . Δεκτός κάθε έλεγχος * Στο αυτοκίνητο πριν δωθεί θα βαφτεί η καινούργια προφυλακτήρα πίσω και θα τοποθετηθούν οι καινούργιοι μασπιεδες gti επισης θα δώσουν καινούργια led για μεσαία και μεγάλη σκάλα</td>\n",
       "      <td>None</td>\n",
       "      <td>None</td>\n",
       "      <td>None</td>\n",
       "      <td>None</td>\n",
       "      <td>None</td>\n",
       "      <td>None</td>\n",
       "      <td>None</td>\n",
       "      <td>None</td>\n",
       "      <td>None</td>\n",
       "      <td>None</td>\n",
       "      <td>None</td>\n",
       "      <td>None</td>\n",
       "      <td>None</td>\n",
       "      <td>None</td>\n",
       "      <td>None</td>\n",
       "      <td>None</td>\n",
       "      <td>None</td>\n",
       "      <td>None</td>\n",
       "      <td>None</td>\n",
       "      <td>None</td>\n",
       "      <td>None</td>\n",
       "      <td>None</td>\n",
       "      <td>None</td>\n",
       "      <td>None</td>\n",
       "      <td>None</td>\n",
       "      <td>None</td>\n",
       "      <td>None</td>\n",
       "      <td>None</td>\n",
       "      <td>None</td>\n",
       "      <td>None</td>\n",
       "      <td>None</td>\n",
       "      <td>None</td>\n",
       "      <td>None</td>\n",
       "      <td>None</td>\n",
       "      <td>None</td>\n",
       "      <td>None</td>\n",
       "      <td>None</td>\n",
       "      <td>None</td>\n",
       "      <td>None</td>\n",
       "      <td>None</td>\n",
       "      <td>None</td>\n",
       "      <td>None</td>\n",
       "      <td>None</td>\n",
       "      <td>None</td>\n",
       "      <td>None</td>\n",
       "      <td>None</td>\n",
       "      <td>None</td>\n",
       "      <td>None</td>\n",
       "      <td>None</td>\n",
       "      <td>None</td>\n",
       "      <td>None</td>\n",
       "      <td>None</td>\n",
       "      <td>None</td>\n",
       "      <td>None</td>\n",
       "      <td>None</td>\n",
       "      <td>None</td>\n",
       "      <td>None</td>\n",
       "      <td>None</td>\n",
       "      <td>None</td>\n",
       "      <td>None</td>\n",
       "      <td>None</td>\n",
       "      <td>None</td>\n",
       "      <td>None</td>\n",
       "      <td>None</td>\n",
       "      <td>None</td>\n",
       "      <td>None</td>\n",
       "      <td>None</td>\n",
       "      <td>None</td>\n",
       "      <td>None</td>\n",
       "      <td>None</td>\n",
       "      <td>None</td>\n",
       "      <td>None</td>\n",
       "      <td>None</td>\n",
       "      <td>None</td>\n",
       "      <td>None</td>\n",
       "      <td>None</td>\n",
       "      <td>None</td>\n",
       "      <td>None</td>\n",
       "      <td>None</td>\n",
       "      <td>None</td>\n",
       "      <td>None</td>\n",
       "      <td>None</td>\n",
       "      <td>None</td>\n",
       "      <td>None</td>\n",
       "      <td>None</td>\n",
       "      <td>None</td>\n",
       "      <td>None</td>\n",
       "      <td>5</td>\n",
       "      <td>4/2026</td>\n",
       "      <td>Μαύρο (Μεταλλικό)</td>\n",
       "      <td>Ζυγή</td>\n",
       "      <td>None</td>\n",
       "      <td>None</td>\n",
       "      <td>None</td>\n",
       "      <td>17 ίντσες</td>\n",
       "      <td>NaN</td>\n",
       "      <td>NaN</td>\n",
       "      <td>NaN</td>\n",
       "      <td>NaN</td>\n",
       "      <td>NaN</td>\n",
       "      <td>NaN</td>\n",
       "      <td>None</td>\n",
       "      <td>NaN</td>\n",
       "      <td>NaN</td>\n",
       "      <td>None</td>\n",
       "      <td>NaN</td>\n",
       "      <td>7,50</td>\n",
       "      <td>Προσθιοκίνητο (FWD)</td>\n",
       "      <td>2</td>\n",
       "    </tr>\n",
       "    <tr>\n",
       "      <th>5</th>\n",
       "      <td>339383970</td>\n",
       "      <td>ΜΕ ΕΡΓΟΣΤΑΣΙΑΚΗ ΕΓΓΥΗΣΗ\\n\\n* ΣΤΗΝ ΤΙΜΗ ΔΕΝ ΠΕΡΙΛΑΜΒΑΝΟΝΤΑΙ ΤΑ ΕΞΟΔΑ ΜΕΤΑΒΙΒΑΣΗΣ</td>\n",
       "      <td>None</td>\n",
       "      <td>None</td>\n",
       "      <td>None</td>\n",
       "      <td>None</td>\n",
       "      <td>None</td>\n",
       "      <td>None</td>\n",
       "      <td>None</td>\n",
       "      <td>None</td>\n",
       "      <td>None</td>\n",
       "      <td>None</td>\n",
       "      <td>None</td>\n",
       "      <td>None</td>\n",
       "      <td>None</td>\n",
       "      <td>None</td>\n",
       "      <td>None</td>\n",
       "      <td>None</td>\n",
       "      <td>None</td>\n",
       "      <td>None</td>\n",
       "      <td>None</td>\n",
       "      <td>None</td>\n",
       "      <td>None</td>\n",
       "      <td>None</td>\n",
       "      <td>None</td>\n",
       "      <td>None</td>\n",
       "      <td>None</td>\n",
       "      <td>None</td>\n",
       "      <td>None</td>\n",
       "      <td>None</td>\n",
       "      <td>None</td>\n",
       "      <td>None</td>\n",
       "      <td>None</td>\n",
       "      <td>None</td>\n",
       "      <td>None</td>\n",
       "      <td>None</td>\n",
       "      <td>None</td>\n",
       "      <td>None</td>\n",
       "      <td>None</td>\n",
       "      <td>None</td>\n",
       "      <td>None</td>\n",
       "      <td>None</td>\n",
       "      <td>None</td>\n",
       "      <td>None</td>\n",
       "      <td>None</td>\n",
       "      <td>None</td>\n",
       "      <td>None</td>\n",
       "      <td>None</td>\n",
       "      <td>None</td>\n",
       "      <td>None</td>\n",
       "      <td>None</td>\n",
       "      <td>None</td>\n",
       "      <td>None</td>\n",
       "      <td>None</td>\n",
       "      <td>None</td>\n",
       "      <td>None</td>\n",
       "      <td>None</td>\n",
       "      <td>None</td>\n",
       "      <td>None</td>\n",
       "      <td>None</td>\n",
       "      <td>None</td>\n",
       "      <td>None</td>\n",
       "      <td>None</td>\n",
       "      <td>None</td>\n",
       "      <td>None</td>\n",
       "      <td>None</td>\n",
       "      <td>None</td>\n",
       "      <td>None</td>\n",
       "      <td>None</td>\n",
       "      <td>None</td>\n",
       "      <td>None</td>\n",
       "      <td>None</td>\n",
       "      <td>None</td>\n",
       "      <td>None</td>\n",
       "      <td>None</td>\n",
       "      <td>None</td>\n",
       "      <td>None</td>\n",
       "      <td>None</td>\n",
       "      <td>None</td>\n",
       "      <td>None</td>\n",
       "      <td>None</td>\n",
       "      <td>None</td>\n",
       "      <td>None</td>\n",
       "      <td>None</td>\n",
       "      <td>None</td>\n",
       "      <td>None</td>\n",
       "      <td>None</td>\n",
       "      <td>Ύφασμα</td>\n",
       "      <td>None</td>\n",
       "      <td>5</td>\n",
       "      <td>9/2026</td>\n",
       "      <td>Άσπρο</td>\n",
       "      <td>Μονή</td>\n",
       "      <td>None</td>\n",
       "      <td>None</td>\n",
       "      <td>Μαύρο</td>\n",
       "      <td>16 ίντσες</td>\n",
       "      <td>1798.0</td>\n",
       "      <td>6.0</td>\n",
       "      <td>160.0</td>\n",
       "      <td>1603.0</td>\n",
       "      <td>12.2</td>\n",
       "      <td>1440.0</td>\n",
       "      <td>hatchback</td>\n",
       "      <td>4050.0</td>\n",
       "      <td>180.0</td>\n",
       "      <td>TCe 90 Experience</td>\n",
       "      <td>2583.0</td>\n",
       "      <td>4.9</td>\n",
       "      <td>FWD</td>\n",
       "      <td>5.0</td>\n",
       "    </tr>\n",
       "    <tr>\n",
       "      <th>6</th>\n",
       "      <td>43271412</td>\n",
       "      <td>ΑΛΙΒΙΖΑΤΟΣ CARS         ΤΟ ΨΑΧΝΕΙΣ ΠΑΝΤΟΥ ; ... \\n\\nΤΟ ΕΧΟΥΜΕ ΕΔΩ !!!       Λ.ΠΕΝΤΕΛΗΣ 3 , ΒΡΙΛΗΣΣΙΑ       [ ΧΩΡΙΣ ΡΑΝΤΕΒΟΥ ] !!!\\n\\nΚΟΡΥΦΑΙΑ ΜΕΤΑΧΕΙΡΙΣΜΕΝΑ ΑΥΤΟΚΙΝΗΤΑ\\n\\n• EΞΟΠΛΙΣΜΟΣ KIA PICANTO 1.2 AUTOMATIC GT LINE 84hp\\n\\n• ΣΑΝ ΚΑΙΝΟΥΡΙΟ........SPORT ΕΚΔΟΣΗ GT LINE!!!\\n• SPORT ΔΕΡΜΑΤΙΝΟ ΣΑΛΟΝΙ ΜΑΥΡΟ/ΚΟΚΚΙΝΟ\\n• SPORT ΠΡΟΦΥΛΑΚΤΗΡΕΣ \\n• ΔΙΠΛΗ ΔΙΑΚΟΣΜΗΤΙΚΗ ΕΞΑΤΜΙΣΗ\\n• ΠΛΕΥΡΙΚΑ ΜΑΣΠΙΕ\\n• ΔΕΡΜΑΤΙΝΟ ΤΙΜΟΝΙ ΚΑΙ ΕΠΙΛΟΓΕΑΣ ΤΑΧΥΤΗΤΩΝ\\n• ΦΩΤΑ ΗΜΕΡΑΣ LED KAI ΠΙΣΩ ΦΩΤΑ LED'\\n• ΗΧΟΣΥΣΤΗΜΑ ΜΕ ΕΓΧΡΩΜΗ ΟΘΟΝΗ ΑΦΗΣ 8''\\n• ΚΑΜΕΡΑ ΟΠΙΣΘΟΠΟΡΙΑΣ\\n• ΔΥΝΑΤΟΤΗΤΑ ΣΥΝΔΕΣΗΣ ΜΕ APPLE CARPLAY KAI ANDROID AUTO\\n• ΑΥΤΟΜΑΤΟΣ ΔΙΖΩΝΙΚΟΣ ΚΛΙΜΑΤΙΣΜΟΣ\\n• ΑΥΤΟΜΑΤΗ ΛΕΙΤΟΥΡΓΙΑ ΠΡΟΒΟΛΕΩΝ\\n• ΠΙΣΩ ΦΙΜΕ ΚΡΥΣΤΑΛΛΑ\\n• ΣΥΣΤΗΜΑ ΕΞΥΠΝΗΣ ΕΚΚΙΝΗΣΗ (Start Button)\\n• ΥΠΟΛΟΓΙΣΤΗΣ ΤΑΞΙΔΙΟΥ ΜΕ ΟΘΟΝΗ LCD 4.2'\\n• ΣΥΣΤΗΜΑ ΑΝΑΓΝΩΡΙΣΗΣ ΣΗΜΑΤΩΝ ΚΥΚΛΟΦΟΡΙΑΣ\\n• ΑΙΣΘΗΤΗΡΑΣ ΒΡΟΧΗΣ\\n• ΣΥΣΤΗΜΑ ΕΛΕΝΧΟΥ ΕΥΣΤΑΘΕΙΑΣ \\n• ΣΥΣΤΗΜΑ ΑΠΟΦΥΓΗΣ ΠΡΟΣΚΡΟΥΣΗΣ    \\n• ΣΥΣΤΗΜΑ ΕΛΕΓΧΟΥ ΔΙΑΤΗΡΗΣΗΣ ΛΩΡΙΔΑΣ\\n • ΥΠΟΒΡΑΧΙΟΝΙΟ ΔΕΡΜΑΤΙΝΟ\\n• ISOFIX\\n• ΑΥΤΟΜΑΤΟΙ ΑΝΑΔΙΠΛΟΥΜΕΝΟΙ ΚΑΘΡΕΦΤΕΣ\\n• 6 ΑΕΡΟΣΑΚΟΙ    \\n• ΑΡΙΘΜΟΣ ΠΛΑΙΣΙΟΥ KNAB3512BKT48173\\n\\n✅ ΠΛΗΡEΣ ΑΡΧΕΙΟ SERVICE ΕΓΓΥΗΣΗ ΧΙΛΙΟΜΕΤΡΩΝ\\n✅ ΔΕΚΤΟΣ ΕΛΕΓΧΟΣ ΑΝΤΙΠΡΟΣΩΠΕΙΑΣ\\n✅ ΔΙΕΘΝΗΣ ΠΙΣΤΟΠΟΙΗΣΗ  STATUS REPORT  SGS - DEKRA\\n✅ ΓΡΑΠΤΗ ΕΓΓΥΗΣΗ ΑΤΡΑΚΑΡΙΣΤΟΥ\\n✅ ΒΙΟΛΟΓΙΚΟΣ ΚΑΘΑΡΙΣΜΟΣ\\n✅ ΔΥΝΑΤΟΤΗΤΑ  LEASING \\n✅ EYKOΛΙΕΣ ΠΛΗΡΩΜΗΣ ΕΩΣ 72 ΜΗΝΕΣ\\n✅ ΔΕΧΟΜΑΣΤΕ ΟΛΕΣ ΤΙΣ ΠΙΣΤΩΤΙΚΕΣ ΚΑΙ ΧΡΕΩΣΤΙΚΕΣ ΚΑΡΤΕΣ\\n✅ ΑΓΟΡΑΖΟΥΜΕ ΜΕΤΡΗΤΟΙΣ Η ΑΝΤΑΛΛΑΣΟΥΜΕ ΤΟ ΑΥΤΟΚΙΝΗΤΟ ΣΑΣ ΑΝΕΞΑΡΤΗΤΟΣ ΚΥΒΙΣΜΟΥ.\\n✅ ΠΡΟΕΞΟΦΛΟΥΜΕ ΤΟ ΔΑΝΕΙΟ ΤΟΥ ΑΥΤΟΚΙΝΗΤΟΥ ΣΑΣ!\\n✅ ΠΡΟΥΠΟΘΕΣΗ ΝΑ ΕΙΝΑΙ ΑΤΡΑΚΑΡΙΣΤΟ ΜΕ ΒΙΒΛΙΟ SERVICE ΚΑΙ ΜΟΝΤΕΛΟ ΜΕΤΑ ΤΟ 2011.\\n✅ ΚΑΘΗΜΕΡΙΝΑ 9:00 -20:30 ΣΑΒΒΑΤΟ 9:30-15:00\\n✅ PARKING ΠΕΛΑΤΩΝ\\n✅ ΠΑΙΔΟΤΟΠΟΣ ΓΙΑ ΤΟΥΣ ΜΙΚΡΟΥΣ ΜΑΣ ΦΙΛΟΥΣ\\n✅ ΠΡΟΣΒΑΣΗ ΔΙΑ ΜΕΣΟΥ ΑΤΤΙΚΗΣ ΟΔΟΥ &amp; ΠΡΟΑΣΤΙΑΚΟΥ ΣΤΑΣΗ ΛΕΩΦ. ΠΕΝΤΕΛΗΣ\\n✅ ΤΗΛΕΦΩΝΟ : 210-6890900............✅ https://alivizatos-cars.gr</td>\n",
       "      <td>False</td>\n",
       "      <td>False</td>\n",
       "      <td>False</td>\n",
       "      <td>False</td>\n",
       "      <td>True</td>\n",
       "      <td>True</td>\n",
       "      <td>False</td>\n",
       "      <td>False</td>\n",
       "      <td>False</td>\n",
       "      <td>False</td>\n",
       "      <td>True</td>\n",
       "      <td>False</td>\n",
       "      <td>False</td>\n",
       "      <td>False</td>\n",
       "      <td>False</td>\n",
       "      <td>False</td>\n",
       "      <td>False</td>\n",
       "      <td>False</td>\n",
       "      <td>True</td>\n",
       "      <td>False</td>\n",
       "      <td>True</td>\n",
       "      <td>False</td>\n",
       "      <td>True</td>\n",
       "      <td>True</td>\n",
       "      <td>False</td>\n",
       "      <td>False</td>\n",
       "      <td>False</td>\n",
       "      <td>False</td>\n",
       "      <td>True</td>\n",
       "      <td>False</td>\n",
       "      <td>True</td>\n",
       "      <td>True</td>\n",
       "      <td>False</td>\n",
       "      <td>False</td>\n",
       "      <td>False</td>\n",
       "      <td>False</td>\n",
       "      <td>True</td>\n",
       "      <td>False</td>\n",
       "      <td>False</td>\n",
       "      <td>False</td>\n",
       "      <td>True</td>\n",
       "      <td>True</td>\n",
       "      <td>False</td>\n",
       "      <td>False</td>\n",
       "      <td>False</td>\n",
       "      <td>True</td>\n",
       "      <td>False</td>\n",
       "      <td>False</td>\n",
       "      <td>True</td>\n",
       "      <td>False</td>\n",
       "      <td>True</td>\n",
       "      <td>False</td>\n",
       "      <td>True</td>\n",
       "      <td>False</td>\n",
       "      <td>True</td>\n",
       "      <td>False</td>\n",
       "      <td>True</td>\n",
       "      <td>True</td>\n",
       "      <td>True</td>\n",
       "      <td>False</td>\n",
       "      <td>True</td>\n",
       "      <td>False</td>\n",
       "      <td>True</td>\n",
       "      <td>False</td>\n",
       "      <td>True</td>\n",
       "      <td>True</td>\n",
       "      <td>True</td>\n",
       "      <td>False</td>\n",
       "      <td>False</td>\n",
       "      <td>False</td>\n",
       "      <td>True</td>\n",
       "      <td>False</td>\n",
       "      <td>True</td>\n",
       "      <td>False</td>\n",
       "      <td>False</td>\n",
       "      <td>False</td>\n",
       "      <td>True</td>\n",
       "      <td>True</td>\n",
       "      <td>False</td>\n",
       "      <td>False</td>\n",
       "      <td>False</td>\n",
       "      <td>False</td>\n",
       "      <td>False</td>\n",
       "      <td>False</td>\n",
       "      <td>True</td>\n",
       "      <td>Δέρμα</td>\n",
       "      <td>None</td>\n",
       "      <td>5</td>\n",
       "      <td>10/2025</td>\n",
       "      <td>Μαύρο (Μεταλλικό)</td>\n",
       "      <td>Μονή</td>\n",
       "      <td>124 g/km</td>\n",
       "      <td>None</td>\n",
       "      <td>Γκρι</td>\n",
       "      <td>16 ίντσες</td>\n",
       "      <td>1595.0</td>\n",
       "      <td>5.0</td>\n",
       "      <td>122.0</td>\n",
       "      <td>1400.0</td>\n",
       "      <td>12.0</td>\n",
       "      <td>1485.0</td>\n",
       "      <td>hatchback</td>\n",
       "      <td>3595.0</td>\n",
       "      <td>173.0</td>\n",
       "      <td>1.2 Edition 7</td>\n",
       "      <td>2400.0</td>\n",
       "      <td>5.0</td>\n",
       "      <td>FWD</td>\n",
       "      <td>5.0</td>\n",
       "    </tr>\n",
       "    <tr>\n",
       "      <th>7</th>\n",
       "      <td>342992591</td>\n",
       "      <td>Η ΠΡΟΣΦΟΡΑ ΙΣΧΥΕΙ ΜΕΧΡΙ 28/2 ΚΑΙ ΓΙΑ ΠΕΡΙΟΡΙΣΜΕΝΟ ΑΡΙΘΜΟ ΑΥΤΟΚΙΝΗΤΩΝ\\nΔΥΝΑΤΟΤΗΤΑ TEST DRIVE\\n3 ΧΡΟΝΙΑ ΕΓΓΥΗΣΗ &amp; ΟΔΙΚΗ ΒΟΗΘΕΙΑ ΜΕ ΔΥΝΑΤΟΤΗΤΑ ΕΠΕΚΤΑΣΗΣ</td>\n",
       "      <td>False</td>\n",
       "      <td>False</td>\n",
       "      <td>True</td>\n",
       "      <td>False</td>\n",
       "      <td>True</td>\n",
       "      <td>True</td>\n",
       "      <td>False</td>\n",
       "      <td>True</td>\n",
       "      <td>False</td>\n",
       "      <td>False</td>\n",
       "      <td>True</td>\n",
       "      <td>False</td>\n",
       "      <td>True</td>\n",
       "      <td>True</td>\n",
       "      <td>False</td>\n",
       "      <td>True</td>\n",
       "      <td>False</td>\n",
       "      <td>False</td>\n",
       "      <td>True</td>\n",
       "      <td>True</td>\n",
       "      <td>False</td>\n",
       "      <td>True</td>\n",
       "      <td>True</td>\n",
       "      <td>True</td>\n",
       "      <td>False</td>\n",
       "      <td>True</td>\n",
       "      <td>True</td>\n",
       "      <td>True</td>\n",
       "      <td>True</td>\n",
       "      <td>False</td>\n",
       "      <td>True</td>\n",
       "      <td>True</td>\n",
       "      <td>False</td>\n",
       "      <td>False</td>\n",
       "      <td>True</td>\n",
       "      <td>False</td>\n",
       "      <td>True</td>\n",
       "      <td>False</td>\n",
       "      <td>False</td>\n",
       "      <td>False</td>\n",
       "      <td>True</td>\n",
       "      <td>True</td>\n",
       "      <td>False</td>\n",
       "      <td>True</td>\n",
       "      <td>False</td>\n",
       "      <td>True</td>\n",
       "      <td>False</td>\n",
       "      <td>False</td>\n",
       "      <td>True</td>\n",
       "      <td>False</td>\n",
       "      <td>True</td>\n",
       "      <td>True</td>\n",
       "      <td>True</td>\n",
       "      <td>True</td>\n",
       "      <td>True</td>\n",
       "      <td>True</td>\n",
       "      <td>True</td>\n",
       "      <td>True</td>\n",
       "      <td>True</td>\n",
       "      <td>True</td>\n",
       "      <td>True</td>\n",
       "      <td>False</td>\n",
       "      <td>True</td>\n",
       "      <td>True</td>\n",
       "      <td>True</td>\n",
       "      <td>True</td>\n",
       "      <td>True</td>\n",
       "      <td>True</td>\n",
       "      <td>False</td>\n",
       "      <td>False</td>\n",
       "      <td>True</td>\n",
       "      <td>True</td>\n",
       "      <td>True</td>\n",
       "      <td>False</td>\n",
       "      <td>False</td>\n",
       "      <td>True</td>\n",
       "      <td>True</td>\n",
       "      <td>True</td>\n",
       "      <td>True</td>\n",
       "      <td>False</td>\n",
       "      <td>False</td>\n",
       "      <td>False</td>\n",
       "      <td>False</td>\n",
       "      <td>False</td>\n",
       "      <td>True</td>\n",
       "      <td>Δέρμα</td>\n",
       "      <td>None</td>\n",
       "      <td>7</td>\n",
       "      <td>None</td>\n",
       "      <td>Χρυσαφί</td>\n",
       "      <td>Άγνωστη</td>\n",
       "      <td>149 g/km</td>\n",
       "      <td>None</td>\n",
       "      <td>None</td>\n",
       "      <td>19 ίντσες</td>\n",
       "      <td>NaN</td>\n",
       "      <td>NaN</td>\n",
       "      <td>NaN</td>\n",
       "      <td>NaN</td>\n",
       "      <td>NaN</td>\n",
       "      <td>NaN</td>\n",
       "      <td>None</td>\n",
       "      <td>NaN</td>\n",
       "      <td>NaN</td>\n",
       "      <td>None</td>\n",
       "      <td>NaN</td>\n",
       "      <td>None</td>\n",
       "      <td>Τετρακίνητο (4x4)</td>\n",
       "      <td>5</td>\n",
       "    </tr>\n",
       "    <tr>\n",
       "      <th>8</th>\n",
       "      <td>44175689</td>\n",
       "      <td>Πωλείται ολόκληρο   ΜΟΝΟ ΓΙΑ ΑΝΤΑΛΛΑΚΤΙΚΑ, είναι σε ακινησία 8 χρόνια.</td>\n",
       "      <td>None</td>\n",
       "      <td>None</td>\n",
       "      <td>None</td>\n",
       "      <td>None</td>\n",
       "      <td>None</td>\n",
       "      <td>None</td>\n",
       "      <td>None</td>\n",
       "      <td>None</td>\n",
       "      <td>None</td>\n",
       "      <td>None</td>\n",
       "      <td>None</td>\n",
       "      <td>None</td>\n",
       "      <td>None</td>\n",
       "      <td>None</td>\n",
       "      <td>None</td>\n",
       "      <td>None</td>\n",
       "      <td>None</td>\n",
       "      <td>None</td>\n",
       "      <td>None</td>\n",
       "      <td>None</td>\n",
       "      <td>None</td>\n",
       "      <td>None</td>\n",
       "      <td>None</td>\n",
       "      <td>None</td>\n",
       "      <td>None</td>\n",
       "      <td>None</td>\n",
       "      <td>None</td>\n",
       "      <td>None</td>\n",
       "      <td>None</td>\n",
       "      <td>None</td>\n",
       "      <td>None</td>\n",
       "      <td>None</td>\n",
       "      <td>None</td>\n",
       "      <td>None</td>\n",
       "      <td>None</td>\n",
       "      <td>None</td>\n",
       "      <td>None</td>\n",
       "      <td>None</td>\n",
       "      <td>None</td>\n",
       "      <td>None</td>\n",
       "      <td>None</td>\n",
       "      <td>None</td>\n",
       "      <td>None</td>\n",
       "      <td>None</td>\n",
       "      <td>None</td>\n",
       "      <td>None</td>\n",
       "      <td>None</td>\n",
       "      <td>None</td>\n",
       "      <td>None</td>\n",
       "      <td>None</td>\n",
       "      <td>None</td>\n",
       "      <td>None</td>\n",
       "      <td>None</td>\n",
       "      <td>None</td>\n",
       "      <td>None</td>\n",
       "      <td>None</td>\n",
       "      <td>None</td>\n",
       "      <td>None</td>\n",
       "      <td>None</td>\n",
       "      <td>None</td>\n",
       "      <td>None</td>\n",
       "      <td>None</td>\n",
       "      <td>None</td>\n",
       "      <td>None</td>\n",
       "      <td>None</td>\n",
       "      <td>None</td>\n",
       "      <td>None</td>\n",
       "      <td>None</td>\n",
       "      <td>None</td>\n",
       "      <td>None</td>\n",
       "      <td>None</td>\n",
       "      <td>None</td>\n",
       "      <td>None</td>\n",
       "      <td>None</td>\n",
       "      <td>None</td>\n",
       "      <td>None</td>\n",
       "      <td>None</td>\n",
       "      <td>None</td>\n",
       "      <td>None</td>\n",
       "      <td>None</td>\n",
       "      <td>None</td>\n",
       "      <td>None</td>\n",
       "      <td>None</td>\n",
       "      <td>None</td>\n",
       "      <td>None</td>\n",
       "      <td>Δέρμα</td>\n",
       "      <td>None</td>\n",
       "      <td>2</td>\n",
       "      <td>None</td>\n",
       "      <td>Ασημί</td>\n",
       "      <td>Χωρίς</td>\n",
       "      <td>None</td>\n",
       "      <td>None</td>\n",
       "      <td>Δίχρωμο</td>\n",
       "      <td>None</td>\n",
       "      <td>NaN</td>\n",
       "      <td>NaN</td>\n",
       "      <td>NaN</td>\n",
       "      <td>NaN</td>\n",
       "      <td>NaN</td>\n",
       "      <td>NaN</td>\n",
       "      <td>None</td>\n",
       "      <td>NaN</td>\n",
       "      <td>NaN</td>\n",
       "      <td>None</td>\n",
       "      <td>NaN</td>\n",
       "      <td>None</td>\n",
       "      <td>None</td>\n",
       "      <td>2</td>\n",
       "    </tr>\n",
       "    <tr>\n",
       "      <th>9</th>\n",
       "      <td>44345512</td>\n",
       "      <td>Ηλεκτρικά παράθυραΖάντες αλουμινίου Συναγερμός\\nΗλεκτρομαγνητικές κλειδαριές Αλλαγμένη ολόκληρη η εξάτμιση Ανεμοθραυστες Δερμάτινο τιμόνι Immobilizer</td>\n",
       "      <td>None</td>\n",
       "      <td>None</td>\n",
       "      <td>None</td>\n",
       "      <td>None</td>\n",
       "      <td>None</td>\n",
       "      <td>None</td>\n",
       "      <td>None</td>\n",
       "      <td>None</td>\n",
       "      <td>None</td>\n",
       "      <td>None</td>\n",
       "      <td>None</td>\n",
       "      <td>None</td>\n",
       "      <td>None</td>\n",
       "      <td>None</td>\n",
       "      <td>None</td>\n",
       "      <td>None</td>\n",
       "      <td>None</td>\n",
       "      <td>None</td>\n",
       "      <td>None</td>\n",
       "      <td>None</td>\n",
       "      <td>None</td>\n",
       "      <td>None</td>\n",
       "      <td>None</td>\n",
       "      <td>None</td>\n",
       "      <td>None</td>\n",
       "      <td>None</td>\n",
       "      <td>None</td>\n",
       "      <td>None</td>\n",
       "      <td>None</td>\n",
       "      <td>None</td>\n",
       "      <td>None</td>\n",
       "      <td>None</td>\n",
       "      <td>None</td>\n",
       "      <td>None</td>\n",
       "      <td>None</td>\n",
       "      <td>None</td>\n",
       "      <td>None</td>\n",
       "      <td>None</td>\n",
       "      <td>None</td>\n",
       "      <td>None</td>\n",
       "      <td>None</td>\n",
       "      <td>None</td>\n",
       "      <td>None</td>\n",
       "      <td>None</td>\n",
       "      <td>None</td>\n",
       "      <td>None</td>\n",
       "      <td>None</td>\n",
       "      <td>None</td>\n",
       "      <td>None</td>\n",
       "      <td>None</td>\n",
       "      <td>None</td>\n",
       "      <td>None</td>\n",
       "      <td>None</td>\n",
       "      <td>None</td>\n",
       "      <td>None</td>\n",
       "      <td>None</td>\n",
       "      <td>None</td>\n",
       "      <td>None</td>\n",
       "      <td>None</td>\n",
       "      <td>None</td>\n",
       "      <td>None</td>\n",
       "      <td>None</td>\n",
       "      <td>None</td>\n",
       "      <td>None</td>\n",
       "      <td>None</td>\n",
       "      <td>None</td>\n",
       "      <td>None</td>\n",
       "      <td>None</td>\n",
       "      <td>None</td>\n",
       "      <td>None</td>\n",
       "      <td>None</td>\n",
       "      <td>None</td>\n",
       "      <td>None</td>\n",
       "      <td>None</td>\n",
       "      <td>None</td>\n",
       "      <td>None</td>\n",
       "      <td>None</td>\n",
       "      <td>None</td>\n",
       "      <td>None</td>\n",
       "      <td>None</td>\n",
       "      <td>None</td>\n",
       "      <td>None</td>\n",
       "      <td>None</td>\n",
       "      <td>None</td>\n",
       "      <td>None</td>\n",
       "      <td>Ύφασμα</td>\n",
       "      <td>None</td>\n",
       "      <td>4</td>\n",
       "      <td>4/2026</td>\n",
       "      <td>Μαύρο (Μεταλλικό)</td>\n",
       "      <td>Άγνωστη</td>\n",
       "      <td>None</td>\n",
       "      <td>None</td>\n",
       "      <td>Μαύρο</td>\n",
       "      <td>14 ίντσες</td>\n",
       "      <td>NaN</td>\n",
       "      <td>NaN</td>\n",
       "      <td>NaN</td>\n",
       "      <td>NaN</td>\n",
       "      <td>NaN</td>\n",
       "      <td>NaN</td>\n",
       "      <td>None</td>\n",
       "      <td>NaN</td>\n",
       "      <td>NaN</td>\n",
       "      <td>None</td>\n",
       "      <td>NaN</td>\n",
       "      <td>None</td>\n",
       "      <td>Προσθιοκίνητο (FWD)</td>\n",
       "      <td>3</td>\n",
       "    </tr>\n",
       "  </tbody>\n",
       "</table>\n",
       "</div>"
      ]
     },
     "execution_count": 369,
     "metadata": {},
     "output_type": "execute_result"
    }
   ],
   "execution_count": 369
  },
  {
   "metadata": {
    "ExecuteTime": {
     "end_time": "2025-02-20T19:52:00.121455Z",
     "start_time": "2025-02-20T19:51:59.601266Z"
    }
   },
   "cell_type": "code",
   "source": "(enrichment_df == False).sum()",
   "id": "ad95083ece220107",
   "outputs": [
    {
     "data": {
      "text/plain": [
       "id                      0\n",
       "description             0\n",
       "antique             87889\n",
       "cheques_accepted    86455\n",
       "turbo               47051\n",
       "                    ...  \n",
       "trim                    0\n",
       "wheelbase               0\n",
       "fuel_consumption        0\n",
       "drive_type              0\n",
       "doors                   0\n",
       "Length: 111, dtype: int64"
      ]
     },
     "execution_count": 368,
     "metadata": {},
     "output_type": "execute_result"
    }
   ],
   "execution_count": 368
  },
  {
   "metadata": {},
   "cell_type": "code",
   "outputs": [],
   "execution_count": null,
   "source": "",
   "id": "ecd0278a43e86d8"
  }
 ],
 "metadata": {
  "kernelspec": {
   "display_name": "Python 3",
   "language": "python",
   "name": "python3"
  },
  "language_info": {
   "codemirror_mode": {
    "name": "ipython",
    "version": 2
   },
   "file_extension": ".py",
   "mimetype": "text/x-python",
   "name": "python",
   "nbconvert_exporter": "python",
   "pygments_lexer": "ipython2",
   "version": "2.7.6"
  }
 },
 "nbformat": 4,
 "nbformat_minor": 5
}
