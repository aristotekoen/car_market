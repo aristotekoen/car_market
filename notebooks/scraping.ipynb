{
 "cells": [
  {
   "metadata": {},
   "cell_type": "markdown",
   "source": "# Data Science project: building a web scraper to extract structured car listings in greece, processing the data, modelling and more",
   "id": "e27aec04c88d8cba"
  },
  {
   "metadata": {},
   "cell_type": "markdown",
   "source": [
    "## Introduction\n",
    "\n",
    "Car.gr is one of the largest platforms in Greece for buying and selling cars, scooters, boats, and other vehicles, though it is primarily used for car sales. Sellers list their vehicles, and buyers can contact them directly.\n",
    "\n",
    "Determining the market value of a used car is challenging due to numerous influencing factors, including mileage, model, brand, year, condition, options, gearbox type, and accident history. Additionally, hidden factors such as location, supply and demand, and even color might impact prices. Given these complexities, gaining insights from data could help better understand pricing dynamics.\n",
    "Project Goals\n",
    "\n",
    "To explore these challenges, I aim to scrape, preprocess, and analyze car listings from Car.gr to build useful tools, such as:\n",
    "\n",
    "    📊 Market Analysis: Statistical insights into pricing trends and factors influencing car values.\n",
    "    💰 Price Estimation Model: Predict car prices based on listing attributes.\n",
    "    🤖 Chatbot using Retrieval-Augmented Generation (RAG): Enable users to query listings using natural language.\n",
    "    🔍 Fraud Detection & Anomaly Detection: Identify fraudulent listings using text and image classification.\n",
    "    🖼 Image-Based Vehicle Condition Assessment: Use computer vision to assess car conditions.\n",
    "\n",
    "Personal Motivation & Learning Goals\n",
    "\n",
    "After a two-year break from data science, this project serves as a hands-on opportunity to refresh and update my skills. The main technical focus areas include:\n",
    "\n",
    "    Web Scraping & Data Storage – Reinforcing skills in Python, Google Cloud Platform (GCP), and databases.\n",
    "    Data Preprocessing & Exploratory Analysis – Extracting meaningful insights from raw data.\n",
    "    Machine Learning for Price Prediction – Building and evaluating pricing models.\n",
    "    Implementing a RAG-based Chatbot – Exploring state-of-the-art retrieval-augmented generation techniques.\n",
    "    Image Classification for Car Condition Assessment – Applying deep learning for visual analysis.\n",
    "\n",
    "Next Steps\n",
    "\n",
    "The first and most crucial step is scraping the website, as it forms the foundation for all subsequent tasks. This will be my immediate focus.\n",
    "\n",
    "All the code will be found on my github repos"
   ],
   "id": "a3359ca332ecc42e"
  },
  {
   "metadata": {},
   "cell_type": "markdown",
   "source": [
    "## A First look at car.gr\n",
    "\n",
    "On car.gr, when looking for cars on sale without any criteria we get the paginated of all listed cars.\n",
    "\n",
    "![Sample Image](../photos/car_gr_list.png)\n",
    "\n",
    "We can see more than 130 000 cars listed on the website. Now let's take a look at one ad:\n",
    "\n",
    "![Sample Image](../photos/car_gr_example_ad.png)\n",
    "\n",
    "We can see that the ads are organised as follows:\n",
    "\n",
    "- A title: Usually brand and model of the car\n",
    "- A short description\n",
    "- A price\n",
    "- Information about the seller\n",
    "- Photos\n",
    "- Registration year\n",
    "- Mileage\n",
    "- Fuel type\n",
    "- Engine size\n",
    "- Engine Power\n",
    "- Number of doors\n",
    "- Gearbox type\n",
    "- Category of the vehicle\n",
    "- Color\n",
    "- A section to calculate the cost of a loan and other sections that don't interest us\n",
    "\n",
    "We see that there is extensive information about each car and that is what we aim to scrape.\n",
    "\n"
   ],
   "id": "81aabbdc979a6fb0"
  },
  {
   "metadata": {},
   "cell_type": "markdown",
   "source": "## Scraping Strategy:\n",
   "id": "d0b8f932080b6fcc"
  },
  {
   "metadata": {},
   "cell_type": "code",
   "outputs": [],
   "execution_count": null,
   "source": "",
   "id": "42db51b7a3bbce6f"
  }
 ],
 "metadata": {
  "kernelspec": {
   "display_name": "Python 3",
   "language": "python",
   "name": "python3"
  },
  "language_info": {
   "codemirror_mode": {
    "name": "ipython",
    "version": 2
   },
   "file_extension": ".py",
   "mimetype": "text/x-python",
   "name": "python",
   "nbconvert_exporter": "python",
   "pygments_lexer": "ipython2",
   "version": "2.7.6"
  }
 },
 "nbformat": 4,
 "nbformat_minor": 5
}
