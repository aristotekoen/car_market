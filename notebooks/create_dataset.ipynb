{
 "cells": [
  {
   "cell_type": "code",
   "id": "initial_id",
   "metadata": {
    "collapsed": true,
    "ExecuteTime": {
     "end_time": "2025-02-20T20:20:21.259006Z",
     "start_time": "2025-02-20T20:20:21.256095Z"
    }
   },
   "source": "import pandas as pd",
   "outputs": [],
   "execution_count": 25
  },
  {
   "metadata": {
    "ExecuteTime": {
     "end_time": "2025-02-20T20:09:33.270484Z",
     "start_time": "2025-02-20T20:09:29.511877Z"
    }
   },
   "cell_type": "code",
   "source": [
    "initial_df = pd.read_csv('../data/processed_ads_df.csv')\n",
    "enrichment_df = pd.read_csv('../data/enrichment_df.csv')"
   ],
   "id": "f3d776ab9f9de0c3",
   "outputs": [],
   "execution_count": 2
  },
  {
   "metadata": {
    "ExecuteTime": {
     "end_time": "2025-02-20T20:10:25.239884Z",
     "start_time": "2025-02-20T20:10:25.235139Z"
    }
   },
   "cell_type": "code",
   "source": "initial_df.shape",
   "id": "f0e0a6c3e4c94dc9",
   "outputs": [
    {
     "data": {
      "text/plain": [
       "(119212, 35)"
      ]
     },
     "execution_count": 3,
     "metadata": {},
     "output_type": "execute_result"
    }
   ],
   "execution_count": 3
  },
  {
   "metadata": {
    "ExecuteTime": {
     "end_time": "2025-02-20T20:10:31.078065Z",
     "start_time": "2025-02-20T20:10:31.074503Z"
    }
   },
   "cell_type": "code",
   "source": "enrichment_df.shape",
   "id": "5cf90c63dd9d33c4",
   "outputs": [
    {
     "data": {
      "text/plain": [
       "(113877, 111)"
      ]
     },
     "execution_count": 4,
     "metadata": {},
     "output_type": "execute_result"
    }
   ],
   "execution_count": 4
  },
  {
   "metadata": {
    "ExecuteTime": {
     "end_time": "2025-02-20T20:11:13.315071Z",
     "start_time": "2025-02-20T20:11:13.266793Z"
    }
   },
   "cell_type": "code",
   "source": [
    "initial_df.id = initial_df.id.astype('str')\n",
    "enrichment_df.id = enrichment_df.id.astype('str')"
   ],
   "id": "643a572434b910c9",
   "outputs": [],
   "execution_count": 6
  },
  {
   "metadata": {
    "ExecuteTime": {
     "end_time": "2025-02-20T20:11:34.362929Z",
     "start_time": "2025-02-20T20:11:33.871610Z"
    }
   },
   "cell_type": "code",
   "source": "new_df = pd.merge(initial_df, enrichment_df, on='id', how='inner')",
   "id": "3c3fd442fcf715c4",
   "outputs": [],
   "execution_count": 9
  },
  {
   "metadata": {
    "ExecuteTime": {
     "end_time": "2025-02-20T20:12:56.470247Z",
     "start_time": "2025-02-20T20:12:51.499487Z"
    }
   },
   "cell_type": "code",
   "source": "new_df.to_csv('../data/final_dataset_from_scrape.csv', index=False)",
   "id": "75eda2e2dcf24aac",
   "outputs": [],
   "execution_count": 11
  },
  {
   "metadata": {
    "ExecuteTime": {
     "end_time": "2025-02-20T20:12:59.952615Z",
     "start_time": "2025-02-20T20:12:59.934457Z"
    }
   },
   "cell_type": "code",
   "source": "new_df.head()",
   "id": "b89f3e1ff445b257",
   "outputs": [
    {
     "data": {
      "text/plain": [
       "         lat        lon                            Unnamed: 0  is_new label  \\\n",
       "0  40.537681  22.991531  fb208079-b3a1-4187-abe1-c3532386445c   False   NaN   \n",
       "1  38.910536  22.333318  8720e225-a56a-434b-bced-82f7c6b7b3df   False   NaN   \n",
       "2  40.988597  24.636671  11833766-eca4-436f-8be0-f4f304e5946d   False   NaN   \n",
       "3  40.271180  22.533929  a47702b9-4b30-47aa-8e0c-2bd1bdaa151d   False   NaN   \n",
       "4  41.093296  23.570392  b8976804-d099-490e-bbcb-d3a9b0971253   False   NaN   \n",
       "\n",
       "                                     model_stub  \\\n",
       "0     Kia Sportage '02 LIMIDET DERMA FULL EXTRA   \n",
       "1            Mercedes-Benz C 220 '99 CDI DIESEL   \n",
       "2  Mercedes-Benz C 180 '00 ELEGANS ΥΠΕΡΠΡΟΣΦΟΡΑ   \n",
       "3     Lincoln Town Car '07 STRECH LIMO TIFFANIS   \n",
       "4                 Porsche Boxster '02 TIPTRONIC   \n",
       "\n",
       "                                              thumbs     id  price_debatable  \\\n",
       "0  {'count': 7, 'urls': ['https://static.car.gr/1...  11709             True   \n",
       "1  {'count': 8, 'urls': ['https://static.car.gr/2...  22091            False   \n",
       "2  {'count': 15, 'urls': ['https://static.car.gr/...  34666             True   \n",
       "3  {'count': 5, 'urls': ['https://static.car.gr/6...  67361             True   \n",
       "4  {'count': 8, 'urls': ['https://static.car.gr/6...  69173             True   \n",
       "\n",
       "   user_id  ... acceleration  vehicle_width body_type vehicle_length  \\\n",
       "0  3027523  ...          NaN            NaN       NaN            NaN   \n",
       "1  3026785  ...          NaN            NaN       NaN            NaN   \n",
       "2  1001889  ...         12.0         1427.0     sedan         4516.0   \n",
       "3  3026787  ...          NaN            NaN       NaN            NaN   \n",
       "4  1002754  ...          NaN            NaN       NaN            NaN   \n",
       "\n",
       "  top_speed     trim  wheelbase  fuel_consumption         drive_type doors  \n",
       "0       NaN      NaN        NaN               NaN  Τετρακίνητο (4x4)   2.0  \n",
       "1       NaN      NaN        NaN               NaN   Πισωκίνητο (RWD)   4.0  \n",
       "2     193.0  Classic     2690.0               9.2                RWD   5.0  \n",
       "3       NaN      NaN        NaN               NaN   Πισωκίνητο (RWD)   4.0  \n",
       "4       NaN      NaN        NaN               NaN   Πισωκίνητο (RWD)   3.0  \n",
       "\n",
       "[5 rows x 145 columns]"
      ],
      "text/html": [
       "<div>\n",
       "<style scoped>\n",
       "    .dataframe tbody tr th:only-of-type {\n",
       "        vertical-align: middle;\n",
       "    }\n",
       "\n",
       "    .dataframe tbody tr th {\n",
       "        vertical-align: top;\n",
       "    }\n",
       "\n",
       "    .dataframe thead th {\n",
       "        text-align: right;\n",
       "    }\n",
       "</style>\n",
       "<table border=\"1\" class=\"dataframe\">\n",
       "  <thead>\n",
       "    <tr style=\"text-align: right;\">\n",
       "      <th></th>\n",
       "      <th>lat</th>\n",
       "      <th>lon</th>\n",
       "      <th>Unnamed: 0</th>\n",
       "      <th>is_new</th>\n",
       "      <th>label</th>\n",
       "      <th>model_stub</th>\n",
       "      <th>thumbs</th>\n",
       "      <th>id</th>\n",
       "      <th>price_debatable</th>\n",
       "      <th>user_id</th>\n",
       "      <th>...</th>\n",
       "      <th>acceleration</th>\n",
       "      <th>vehicle_width</th>\n",
       "      <th>body_type</th>\n",
       "      <th>vehicle_length</th>\n",
       "      <th>top_speed</th>\n",
       "      <th>trim</th>\n",
       "      <th>wheelbase</th>\n",
       "      <th>fuel_consumption</th>\n",
       "      <th>drive_type</th>\n",
       "      <th>doors</th>\n",
       "    </tr>\n",
       "  </thead>\n",
       "  <tbody>\n",
       "    <tr>\n",
       "      <th>0</th>\n",
       "      <td>40.537681</td>\n",
       "      <td>22.991531</td>\n",
       "      <td>fb208079-b3a1-4187-abe1-c3532386445c</td>\n",
       "      <td>False</td>\n",
       "      <td>NaN</td>\n",
       "      <td>Kia Sportage '02 LIMIDET DERMA FULL EXTRA</td>\n",
       "      <td>{'count': 7, 'urls': ['https://static.car.gr/1...</td>\n",
       "      <td>11709</td>\n",
       "      <td>True</td>\n",
       "      <td>3027523</td>\n",
       "      <td>...</td>\n",
       "      <td>NaN</td>\n",
       "      <td>NaN</td>\n",
       "      <td>NaN</td>\n",
       "      <td>NaN</td>\n",
       "      <td>NaN</td>\n",
       "      <td>NaN</td>\n",
       "      <td>NaN</td>\n",
       "      <td>NaN</td>\n",
       "      <td>Τετρακίνητο (4x4)</td>\n",
       "      <td>2.0</td>\n",
       "    </tr>\n",
       "    <tr>\n",
       "      <th>1</th>\n",
       "      <td>38.910536</td>\n",
       "      <td>22.333318</td>\n",
       "      <td>8720e225-a56a-434b-bced-82f7c6b7b3df</td>\n",
       "      <td>False</td>\n",
       "      <td>NaN</td>\n",
       "      <td>Mercedes-Benz C 220 '99 CDI DIESEL</td>\n",
       "      <td>{'count': 8, 'urls': ['https://static.car.gr/2...</td>\n",
       "      <td>22091</td>\n",
       "      <td>False</td>\n",
       "      <td>3026785</td>\n",
       "      <td>...</td>\n",
       "      <td>NaN</td>\n",
       "      <td>NaN</td>\n",
       "      <td>NaN</td>\n",
       "      <td>NaN</td>\n",
       "      <td>NaN</td>\n",
       "      <td>NaN</td>\n",
       "      <td>NaN</td>\n",
       "      <td>NaN</td>\n",
       "      <td>Πισωκίνητο (RWD)</td>\n",
       "      <td>4.0</td>\n",
       "    </tr>\n",
       "    <tr>\n",
       "      <th>2</th>\n",
       "      <td>40.988597</td>\n",
       "      <td>24.636671</td>\n",
       "      <td>11833766-eca4-436f-8be0-f4f304e5946d</td>\n",
       "      <td>False</td>\n",
       "      <td>NaN</td>\n",
       "      <td>Mercedes-Benz C 180 '00 ELEGANS ΥΠΕΡΠΡΟΣΦΟΡΑ</td>\n",
       "      <td>{'count': 15, 'urls': ['https://static.car.gr/...</td>\n",
       "      <td>34666</td>\n",
       "      <td>True</td>\n",
       "      <td>1001889</td>\n",
       "      <td>...</td>\n",
       "      <td>12.0</td>\n",
       "      <td>1427.0</td>\n",
       "      <td>sedan</td>\n",
       "      <td>4516.0</td>\n",
       "      <td>193.0</td>\n",
       "      <td>Classic</td>\n",
       "      <td>2690.0</td>\n",
       "      <td>9.2</td>\n",
       "      <td>RWD</td>\n",
       "      <td>5.0</td>\n",
       "    </tr>\n",
       "    <tr>\n",
       "      <th>3</th>\n",
       "      <td>40.271180</td>\n",
       "      <td>22.533929</td>\n",
       "      <td>a47702b9-4b30-47aa-8e0c-2bd1bdaa151d</td>\n",
       "      <td>False</td>\n",
       "      <td>NaN</td>\n",
       "      <td>Lincoln Town Car '07 STRECH LIMO TIFFANIS</td>\n",
       "      <td>{'count': 5, 'urls': ['https://static.car.gr/6...</td>\n",
       "      <td>67361</td>\n",
       "      <td>True</td>\n",
       "      <td>3026787</td>\n",
       "      <td>...</td>\n",
       "      <td>NaN</td>\n",
       "      <td>NaN</td>\n",
       "      <td>NaN</td>\n",
       "      <td>NaN</td>\n",
       "      <td>NaN</td>\n",
       "      <td>NaN</td>\n",
       "      <td>NaN</td>\n",
       "      <td>NaN</td>\n",
       "      <td>Πισωκίνητο (RWD)</td>\n",
       "      <td>4.0</td>\n",
       "    </tr>\n",
       "    <tr>\n",
       "      <th>4</th>\n",
       "      <td>41.093296</td>\n",
       "      <td>23.570392</td>\n",
       "      <td>b8976804-d099-490e-bbcb-d3a9b0971253</td>\n",
       "      <td>False</td>\n",
       "      <td>NaN</td>\n",
       "      <td>Porsche Boxster '02 TIPTRONIC</td>\n",
       "      <td>{'count': 8, 'urls': ['https://static.car.gr/6...</td>\n",
       "      <td>69173</td>\n",
       "      <td>True</td>\n",
       "      <td>1002754</td>\n",
       "      <td>...</td>\n",
       "      <td>NaN</td>\n",
       "      <td>NaN</td>\n",
       "      <td>NaN</td>\n",
       "      <td>NaN</td>\n",
       "      <td>NaN</td>\n",
       "      <td>NaN</td>\n",
       "      <td>NaN</td>\n",
       "      <td>NaN</td>\n",
       "      <td>Πισωκίνητο (RWD)</td>\n",
       "      <td>3.0</td>\n",
       "    </tr>\n",
       "  </tbody>\n",
       "</table>\n",
       "<p>5 rows × 145 columns</p>\n",
       "</div>"
      ]
     },
     "execution_count": 12,
     "metadata": {},
     "output_type": "execute_result"
    }
   ],
   "execution_count": 12
  },
  {
   "metadata": {
    "ExecuteTime": {
     "end_time": "2025-02-20T20:24:43.377093Z",
     "start_time": "2025-02-20T20:24:43.375098Z"
    }
   },
   "cell_type": "code",
   "source": "",
   "id": "df72b0e44cdf9428",
   "outputs": [],
   "execution_count": null
  },
  {
   "metadata": {},
   "cell_type": "code",
   "outputs": [],
   "execution_count": null,
   "source": "",
   "id": "a0e2ea320083937c"
  }
 ],
 "metadata": {
  "kernelspec": {
   "display_name": "Python 3",
   "language": "python",
   "name": "python3"
  },
  "language_info": {
   "codemirror_mode": {
    "name": "ipython",
    "version": 2
   },
   "file_extension": ".py",
   "mimetype": "text/x-python",
   "name": "python",
   "nbconvert_exporter": "python",
   "pygments_lexer": "ipython2",
   "version": "2.7.6"
  }
 },
 "nbformat": 4,
 "nbformat_minor": 5
}
